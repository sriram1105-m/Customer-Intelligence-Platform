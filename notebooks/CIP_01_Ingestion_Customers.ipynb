{
 "cells": [
  {
   "cell_type": "code",
   "execution_count": 0,
   "metadata": {
    "application/vnd.databricks.v1+cell": {
     "cellMetadata": {
      "byteLimit": 2048000,
      "rowLimit": 10000
     },
     "inputWidgets": {},
     "nuid": "7177b2a7-b154-463b-88a1-c36429bd002e",
     "showTitle": false,
     "tableResultSettingsMap": {},
     "title": ""
    }
   },
   "outputs": [
    {
     "output_type": "stream",
     "name": "stdout",
     "output_type": "stream",
     "text": [
      "root\n |-- customer_id: string (nullable = true)\n |-- first_name: string (nullable = true)\n |-- last_name: string (nullable = true)\n |-- email: string (nullable = true)\n |-- gender: string (nullable = true)\n |-- date_of_birth: date (nullable = true)\n |-- signup_date: date (nullable = true)\n |-- region: string (nullable = true)\n |-- customer_segment: string (nullable = true)\n\n"
     ]
    },
    {
     "output_type": "display_data",
     "data": {
      "text/html": [
       "<style scoped>\n",
       "  .table-result-container {\n",
       "    max-height: 300px;\n",
       "    overflow: auto;\n",
       "  }\n",
       "  table, th, td {\n",
       "    border: 1px solid black;\n",
       "    border-collapse: collapse;\n",
       "  }\n",
       "  th, td {\n",
       "    padding: 5px;\n",
       "  }\n",
       "  th {\n",
       "    text-align: left;\n",
       "  }\n",
       "</style><div class='table-result-container'><table class='table-result'><thead style='background-color: white'><tr><th>customer_id</th><th>first_name</th><th>last_name</th><th>email</th><th>gender</th><th>date_of_birth</th><th>signup_date</th><th>region</th><th>customer_segment</th></tr></thead><tbody><tr><td>1adf1f4d-87f2-431e-90d4-2bd1c8ad3971</td><td>Zachary</td><td>Jackson</td><td>gdavis@salazar.com</td><td>Other</td><td>1990-10-30</td><td>2025-08-03</td><td>South</td><td>Gold</td></tr><tr><td>b006f784-c562-4e8d-a830-c43fc1603096</td><td>Jill</td><td>Day</td><td>nunezlance@yahoo.com</td><td>Other</td><td>1993-04-12</td><td>2023-08-26</td><td>South</td><td>Gold</td></tr><tr><td>a528db6f-4f0c-42c9-9abe-d480cc5247dc</td><td>Caroline</td><td>Franklin</td><td>dianaflores@ruiz.info</td><td>Male</td><td>1999-10-03</td><td>2024-04-23</td><td>North</td><td>Silver</td></tr><tr><td>47edf296-13b8-4ff1-a436-ab6c98797df8</td><td>Deborah</td><td>Stone</td><td>edwardsricky@gmail.com</td><td>Male</td><td>1994-06-06</td><td>2023-03-23</td><td>East</td><td>Platinum</td></tr><tr><td>64f9c9e1-b0bb-4f56-af8c-00dc625f12c6</td><td>Alexander</td><td>Campbell</td><td>kimberly82@harris.com</td><td>Other</td><td>1988-10-18</td><td>2025-06-28</td><td>East</td><td>Silver</td></tr><tr><td>5d868d06-3fa3-4eca-8de4-4c54d0ea0e74</td><td>Beverly</td><td>Ramirez</td><td>jennifer66@gmail.com</td><td>Other</td><td>1976-10-12</td><td>2025-06-06</td><td>North</td><td>Platinum</td></tr><tr><td>9691c7cd-1d77-4053-a62c-876d461ab8f5</td><td>Ashley</td><td>Carlson</td><td>warnergeorge@hotmail.com</td><td>Male</td><td>1995-09-12</td><td>2023-02-04</td><td>West</td><td>Silver</td></tr><tr><td>5af5d6e5-b22e-45a3-8bed-2819edef3134</td><td>Charles</td><td>Rose</td><td>susan33@ramos.com</td><td>Male</td><td>1957-08-16</td><td>2024-03-09</td><td>South</td><td>Silver</td></tr><tr><td>4af30879-0276-4d31-a721-b296141d031e</td><td>Nicholas</td><td>Villarreal</td><td>itodd@hotmail.com</td><td>Other</td><td>1999-07-06</td><td>2023-02-28</td><td>South</td><td>Silver</td></tr><tr><td>aa4a4caa-1895-40b0-a5c1-fe818b431912</td><td>Kristin</td><td>Salazar</td><td>samantha74@wade-davis.net</td><td>Male</td><td>1970-02-03</td><td>2022-12-06</td><td>North</td><td>Platinum</td></tr></tbody></table></div>"
      ]
     },
     "metadata": {
      "application/vnd.databricks.v1+output": {
       "addedWidgets": {},
       "aggData": [],
       "aggError": "",
       "aggOverflow": false,
       "aggSchema": [],
       "aggSeriesLimitReached": false,
       "aggType": "",
       "arguments": {},
       "columnCustomDisplayInfos": {},
       "data": [
        [
         "1adf1f4d-87f2-431e-90d4-2bd1c8ad3971",
         "Zachary",
         "Jackson",
         "gdavis@salazar.com",
         "Other",
         "1990-10-30",
         "2025-08-03",
         "South",
         "Gold"
        ],
        [
         "b006f784-c562-4e8d-a830-c43fc1603096",
         "Jill",
         "Day",
         "nunezlance@yahoo.com",
         "Other",
         "1993-04-12",
         "2023-08-26",
         "South",
         "Gold"
        ],
        [
         "a528db6f-4f0c-42c9-9abe-d480cc5247dc",
         "Caroline",
         "Franklin",
         "dianaflores@ruiz.info",
         "Male",
         "1999-10-03",
         "2024-04-23",
         "North",
         "Silver"
        ],
        [
         "47edf296-13b8-4ff1-a436-ab6c98797df8",
         "Deborah",
         "Stone",
         "edwardsricky@gmail.com",
         "Male",
         "1994-06-06",
         "2023-03-23",
         "East",
         "Platinum"
        ],
        [
         "64f9c9e1-b0bb-4f56-af8c-00dc625f12c6",
         "Alexander",
         "Campbell",
         "kimberly82@harris.com",
         "Other",
         "1988-10-18",
         "2025-06-28",
         "East",
         "Silver"
        ],
        [
         "5d868d06-3fa3-4eca-8de4-4c54d0ea0e74",
         "Beverly",
         "Ramirez",
         "jennifer66@gmail.com",
         "Other",
         "1976-10-12",
         "2025-06-06",
         "North",
         "Platinum"
        ],
        [
         "9691c7cd-1d77-4053-a62c-876d461ab8f5",
         "Ashley",
         "Carlson",
         "warnergeorge@hotmail.com",
         "Male",
         "1995-09-12",
         "2023-02-04",
         "West",
         "Silver"
        ],
        [
         "5af5d6e5-b22e-45a3-8bed-2819edef3134",
         "Charles",
         "Rose",
         "susan33@ramos.com",
         "Male",
         "1957-08-16",
         "2024-03-09",
         "South",
         "Silver"
        ],
        [
         "4af30879-0276-4d31-a721-b296141d031e",
         "Nicholas",
         "Villarreal",
         "itodd@hotmail.com",
         "Other",
         "1999-07-06",
         "2023-02-28",
         "South",
         "Silver"
        ],
        [
         "aa4a4caa-1895-40b0-a5c1-fe818b431912",
         "Kristin",
         "Salazar",
         "samantha74@wade-davis.net",
         "Male",
         "1970-02-03",
         "2022-12-06",
         "North",
         "Platinum"
        ]
       ],
       "datasetInfos": [],
       "dbfsResultPath": null,
       "isJsonSchema": true,
       "metadata": {},
       "overflow": false,
       "plotOptions": {
        "customPlotOptions": {},
        "displayType": "table",
        "pivotAggregation": null,
        "pivotColumns": null,
        "xColumns": null,
        "yColumns": null
       },
       "removedWidgets": [],
       "schema": [
        {
         "metadata": "{}",
         "name": "customer_id",
         "type": "\"string\""
        },
        {
         "metadata": "{}",
         "name": "first_name",
         "type": "\"string\""
        },
        {
         "metadata": "{}",
         "name": "last_name",
         "type": "\"string\""
        },
        {
         "metadata": "{}",
         "name": "email",
         "type": "\"string\""
        },
        {
         "metadata": "{}",
         "name": "gender",
         "type": "\"string\""
        },
        {
         "metadata": "{\"__detected_date_formats\": \"yyyy-M-d\"}",
         "name": "date_of_birth",
         "type": "\"date\""
        },
        {
         "metadata": "{\"__detected_date_formats\": \"yyyy-M-d\"}",
         "name": "signup_date",
         "type": "\"date\""
        },
        {
         "metadata": "{}",
         "name": "region",
         "type": "\"string\""
        },
        {
         "metadata": "{}",
         "name": "customer_segment",
         "type": "\"string\""
        }
       ],
       "type": "table"
      }
     },
     "output_type": "display_data"
    },
    {
     "output_type": "stream",
     "name": "stdout",
     "output_type": "stream",
     "text": [
      "Row Count: 10000\n"
     ]
    }
   ],
   "source": [
    "from pyspark.sql import functions as F\n",
    "\n",
    "# Read the file\n",
    "customers_df = spark.table(\"cip.customers\")\n",
    "\n",
    "# Doing quick sanity checks (schema, few rows, etc)\n",
    "customers_df.printSchema()\n",
    "display(customers_df.limit(10))\n",
    "print(\"Row Count:\", customers_df.count())"
   ]
  },
  {
   "cell_type": "code",
   "execution_count": 0,
   "metadata": {
    "application/vnd.databricks.v1+cell": {
     "cellMetadata": {
      "byteLimit": 2048000,
      "rowLimit": 10000
     },
     "inputWidgets": {},
     "nuid": "cc8b1960-c29e-486c-a1f6-f255cac7f8ab",
     "showTitle": false,
     "tableResultSettingsMap": {},
     "title": ""
    }
   },
   "outputs": [
    {
     "output_type": "stream",
     "name": "stdout",
     "output_type": "stream",
     "text": [
      "Total Rows: 10000, Distinct IDs: 10000\n"
     ]
    },
    {
     "output_type": "display_data",
     "data": {
      "text/html": [
       "<style scoped>\n",
       "  .table-result-container {\n",
       "    max-height: 300px;\n",
       "    overflow: auto;\n",
       "  }\n",
       "  table, th, td {\n",
       "    border: 1px solid black;\n",
       "    border-collapse: collapse;\n",
       "  }\n",
       "  th, td {\n",
       "    padding: 5px;\n",
       "  }\n",
       "  th {\n",
       "    text-align: left;\n",
       "  }\n",
       "</style><div class='table-result-container'><table class='table-result'><thead style='background-color: white'><tr><th>null_count</th></tr></thead><tbody><tr><td>0</td></tr><tr><td>0</td></tr><tr><td>0</td></tr><tr><td>0</td></tr><tr><td>0</td></tr><tr><td>0</td></tr><tr><td>0</td></tr><tr><td>0</td></tr><tr><td>0</td></tr><tr><td>0</td></tr></tbody></table></div>"
      ]
     },
     "metadata": {
      "application/vnd.databricks.v1+output": {
       "addedWidgets": {},
       "aggData": [],
       "aggError": "",
       "aggOverflow": false,
       "aggSchema": [],
       "aggSeriesLimitReached": false,
       "aggType": "",
       "arguments": {},
       "columnCustomDisplayInfos": {},
       "data": [
        [
         0
        ],
        [
         0
        ],
        [
         0
        ],
        [
         0
        ],
        [
         0
        ],
        [
         0
        ],
        [
         0
        ],
        [
         0
        ],
        [
         0
        ],
        [
         0
        ]
       ],
       "datasetInfos": [],
       "dbfsResultPath": null,
       "isJsonSchema": true,
       "metadata": {},
       "overflow": false,
       "plotOptions": {
        "customPlotOptions": {},
        "displayType": "table",
        "pivotAggregation": null,
        "pivotColumns": null,
        "xColumns": null,
        "yColumns": null
       },
       "removedWidgets": [],
       "schema": [
        {
         "metadata": "{}",
         "name": "null_count",
         "type": "\"long\""
        }
       ],
       "type": "table"
      }
     },
     "output_type": "display_data"
    },
    {
     "output_type": "display_data",
     "data": {
      "text/html": [
       "<style scoped>\n",
       "  .table-result-container {\n",
       "    max-height: 300px;\n",
       "    overflow: auto;\n",
       "  }\n",
       "  table, th, td {\n",
       "    border: 1px solid black;\n",
       "    border-collapse: collapse;\n",
       "  }\n",
       "  th, td {\n",
       "    padding: 5px;\n",
       "  }\n",
       "  th {\n",
       "    text-align: left;\n",
       "  }\n",
       "</style><div class='table-result-container'><table class='table-result'><thead style='background-color: white'><tr><th>customer_id</th><th>count</th></tr></thead><tbody></tbody></table></div>"
      ]
     },
     "metadata": {
      "application/vnd.databricks.v1+output": {
       "addedWidgets": {},
       "aggData": [],
       "aggError": "",
       "aggOverflow": false,
       "aggSchema": [],
       "aggSeriesLimitReached": false,
       "aggType": "",
       "arguments": {},
       "columnCustomDisplayInfos": {},
       "data": [],
       "datasetInfos": [],
       "dbfsResultPath": null,
       "isJsonSchema": true,
       "metadata": {},
       "overflow": false,
       "plotOptions": {
        "customPlotOptions": {},
        "displayType": "table",
        "pivotAggregation": null,
        "pivotColumns": null,
        "xColumns": null,
        "yColumns": null
       },
       "removedWidgets": [],
       "schema": [
        {
         "metadata": "{}",
         "name": "customer_id",
         "type": "\"string\""
        },
        {
         "metadata": "{}",
         "name": "count",
         "type": "\"long\""
        }
       ],
       "type": "table"
      }
     },
     "output_type": "display_data"
    },
    {
     "output_type": "display_data",
     "data": {
      "text/html": [
       "<style scoped>\n",
       "  .table-result-container {\n",
       "    max-height: 300px;\n",
       "    overflow: auto;\n",
       "  }\n",
       "  table, th, td {\n",
       "    border: 1px solid black;\n",
       "    border-collapse: collapse;\n",
       "  }\n",
       "  th, td {\n",
       "    padding: 5px;\n",
       "  }\n",
       "  th {\n",
       "    text-align: left;\n",
       "  }\n",
       "</style><div class='table-result-container'><table class='table-result'><thead style='background-color: white'><tr><th>summary</th></tr></thead><tbody><tr><td>count</td></tr><tr><td>mean</td></tr><tr><td>stddev</td></tr><tr><td>min</td></tr><tr><td>25%</td></tr><tr><td>50%</td></tr><tr><td>75%</td></tr><tr><td>max</td></tr></tbody></table></div>"
      ]
     },
     "metadata": {
      "application/vnd.databricks.v1+output": {
       "addedWidgets": {},
       "aggData": [],
       "aggError": "",
       "aggOverflow": false,
       "aggSchema": [],
       "aggSeriesLimitReached": false,
       "aggType": "",
       "arguments": {},
       "columnCustomDisplayInfos": {},
       "data": [
        [
         "count"
        ],
        [
         "mean"
        ],
        [
         "stddev"
        ],
        [
         "min"
        ],
        [
         "25%"
        ],
        [
         "50%"
        ],
        [
         "75%"
        ],
        [
         "max"
        ]
       ],
       "datasetInfos": [],
       "dbfsResultPath": null,
       "isJsonSchema": true,
       "metadata": {},
       "overflow": false,
       "plotOptions": {
        "customPlotOptions": {},
        "displayType": "table",
        "pivotAggregation": null,
        "pivotColumns": null,
        "xColumns": null,
        "yColumns": null
       },
       "removedWidgets": [],
       "schema": [
        {
         "metadata": "{}",
         "name": "summary",
         "type": "\"string\""
        }
       ],
       "type": "table"
      }
     },
     "output_type": "display_data"
    },
    {
     "output_type": "display_data",
     "data": {
      "text/html": [
       "<style scoped>\n",
       "  .table-result-container {\n",
       "    max-height: 300px;\n",
       "    overflow: auto;\n",
       "  }\n",
       "  table, th, td {\n",
       "    border: 1px solid black;\n",
       "    border-collapse: collapse;\n",
       "  }\n",
       "  th, td {\n",
       "    padding: 5px;\n",
       "  }\n",
       "  th {\n",
       "    text-align: left;\n",
       "  }\n",
       "</style><div class='table-result-container'><table class='table-result'><thead style='background-color: white'><tr><th>customer_id</th><th>first_name</th><th>last_name</th><th>email</th><th>gender</th><th>date_of_birth</th><th>signup_date</th><th>region</th><th>customer_segment</th><th>name</th></tr></thead><tbody><tr><td>1adf1f4d-87f2-431e-90d4-2bd1c8ad3971</td><td>Zachary</td><td>Jackson</td><td>gdavis@salazar.com</td><td>Other</td><td>1990-10-30</td><td>2025-08-03</td><td>South</td><td>Gold</td><td>Zachary Jackson</td></tr><tr><td>b006f784-c562-4e8d-a830-c43fc1603096</td><td>Jill</td><td>Day</td><td>nunezlance@yahoo.com</td><td>Other</td><td>1993-04-12</td><td>2023-08-26</td><td>South</td><td>Gold</td><td>Jill Day</td></tr><tr><td>a528db6f-4f0c-42c9-9abe-d480cc5247dc</td><td>Caroline</td><td>Franklin</td><td>dianaflores@ruiz.info</td><td>Male</td><td>1999-10-03</td><td>2024-04-23</td><td>North</td><td>Silver</td><td>Caroline Franklin</td></tr><tr><td>47edf296-13b8-4ff1-a436-ab6c98797df8</td><td>Deborah</td><td>Stone</td><td>edwardsricky@gmail.com</td><td>Male</td><td>1994-06-06</td><td>2023-03-23</td><td>East</td><td>Platinum</td><td>Deborah Stone</td></tr><tr><td>64f9c9e1-b0bb-4f56-af8c-00dc625f12c6</td><td>Alexander</td><td>Campbell</td><td>kimberly82@harris.com</td><td>Other</td><td>1988-10-18</td><td>2025-06-28</td><td>East</td><td>Silver</td><td>Alexander Campbell</td></tr><tr><td>5d868d06-3fa3-4eca-8de4-4c54d0ea0e74</td><td>Beverly</td><td>Ramirez</td><td>jennifer66@gmail.com</td><td>Other</td><td>1976-10-12</td><td>2025-06-06</td><td>North</td><td>Platinum</td><td>Beverly Ramirez</td></tr><tr><td>9691c7cd-1d77-4053-a62c-876d461ab8f5</td><td>Ashley</td><td>Carlson</td><td>warnergeorge@hotmail.com</td><td>Male</td><td>1995-09-12</td><td>2023-02-04</td><td>West</td><td>Silver</td><td>Ashley Carlson</td></tr><tr><td>5af5d6e5-b22e-45a3-8bed-2819edef3134</td><td>Charles</td><td>Rose</td><td>susan33@ramos.com</td><td>Male</td><td>1957-08-16</td><td>2024-03-09</td><td>South</td><td>Silver</td><td>Charles Rose</td></tr><tr><td>4af30879-0276-4d31-a721-b296141d031e</td><td>Nicholas</td><td>Villarreal</td><td>itodd@hotmail.com</td><td>Other</td><td>1999-07-06</td><td>2023-02-28</td><td>South</td><td>Silver</td><td>Nicholas Villarreal</td></tr><tr><td>aa4a4caa-1895-40b0-a5c1-fe818b431912</td><td>Kristin</td><td>Salazar</td><td>samantha74@wade-davis.net</td><td>Male</td><td>1970-02-03</td><td>2022-12-06</td><td>North</td><td>Platinum</td><td>Kristin Salazar</td></tr></tbody></table></div>"
      ]
     },
     "metadata": {
      "application/vnd.databricks.v1+output": {
       "addedWidgets": {},
       "aggData": [],
       "aggError": "",
       "aggOverflow": false,
       "aggSchema": [],
       "aggSeriesLimitReached": false,
       "aggType": "",
       "arguments": {},
       "columnCustomDisplayInfos": {},
       "data": [
        [
         "1adf1f4d-87f2-431e-90d4-2bd1c8ad3971",
         "Zachary",
         "Jackson",
         "gdavis@salazar.com",
         "Other",
         "1990-10-30",
         "2025-08-03",
         "South",
         "Gold",
         "Zachary Jackson"
        ],
        [
         "b006f784-c562-4e8d-a830-c43fc1603096",
         "Jill",
         "Day",
         "nunezlance@yahoo.com",
         "Other",
         "1993-04-12",
         "2023-08-26",
         "South",
         "Gold",
         "Jill Day"
        ],
        [
         "a528db6f-4f0c-42c9-9abe-d480cc5247dc",
         "Caroline",
         "Franklin",
         "dianaflores@ruiz.info",
         "Male",
         "1999-10-03",
         "2024-04-23",
         "North",
         "Silver",
         "Caroline Franklin"
        ],
        [
         "47edf296-13b8-4ff1-a436-ab6c98797df8",
         "Deborah",
         "Stone",
         "edwardsricky@gmail.com",
         "Male",
         "1994-06-06",
         "2023-03-23",
         "East",
         "Platinum",
         "Deborah Stone"
        ],
        [
         "64f9c9e1-b0bb-4f56-af8c-00dc625f12c6",
         "Alexander",
         "Campbell",
         "kimberly82@harris.com",
         "Other",
         "1988-10-18",
         "2025-06-28",
         "East",
         "Silver",
         "Alexander Campbell"
        ],
        [
         "5d868d06-3fa3-4eca-8de4-4c54d0ea0e74",
         "Beverly",
         "Ramirez",
         "jennifer66@gmail.com",
         "Other",
         "1976-10-12",
         "2025-06-06",
         "North",
         "Platinum",
         "Beverly Ramirez"
        ],
        [
         "9691c7cd-1d77-4053-a62c-876d461ab8f5",
         "Ashley",
         "Carlson",
         "warnergeorge@hotmail.com",
         "Male",
         "1995-09-12",
         "2023-02-04",
         "West",
         "Silver",
         "Ashley Carlson"
        ],
        [
         "5af5d6e5-b22e-45a3-8bed-2819edef3134",
         "Charles",
         "Rose",
         "susan33@ramos.com",
         "Male",
         "1957-08-16",
         "2024-03-09",
         "South",
         "Silver",
         "Charles Rose"
        ],
        [
         "4af30879-0276-4d31-a721-b296141d031e",
         "Nicholas",
         "Villarreal",
         "itodd@hotmail.com",
         "Other",
         "1999-07-06",
         "2023-02-28",
         "South",
         "Silver",
         "Nicholas Villarreal"
        ],
        [
         "aa4a4caa-1895-40b0-a5c1-fe818b431912",
         "Kristin",
         "Salazar",
         "samantha74@wade-davis.net",
         "Male",
         "1970-02-03",
         "2022-12-06",
         "North",
         "Platinum",
         "Kristin Salazar"
        ]
       ],
       "datasetInfos": [],
       "dbfsResultPath": null,
       "isJsonSchema": true,
       "metadata": {},
       "overflow": false,
       "plotOptions": {
        "customPlotOptions": {},
        "displayType": "table",
        "pivotAggregation": null,
        "pivotColumns": null,
        "xColumns": null,
        "yColumns": null
       },
       "removedWidgets": [],
       "schema": [
        {
         "metadata": "{}",
         "name": "customer_id",
         "type": "\"string\""
        },
        {
         "metadata": "{}",
         "name": "first_name",
         "type": "\"string\""
        },
        {
         "metadata": "{}",
         "name": "last_name",
         "type": "\"string\""
        },
        {
         "metadata": "{}",
         "name": "email",
         "type": "\"string\""
        },
        {
         "metadata": "{}",
         "name": "gender",
         "type": "\"string\""
        },
        {
         "metadata": "{}",
         "name": "date_of_birth",
         "type": "\"date\""
        },
        {
         "metadata": "{}",
         "name": "signup_date",
         "type": "\"date\""
        },
        {
         "metadata": "{}",
         "name": "region",
         "type": "\"string\""
        },
        {
         "metadata": "{}",
         "name": "customer_segment",
         "type": "\"string\""
        },
        {
         "metadata": "{}",
         "name": "name",
         "type": "\"string\""
        }
       ],
       "type": "table"
      }
     },
     "output_type": "display_data"
    }
   ],
   "source": [
    "from pyspark.sql import DataFrame\n",
    "from pyspark.sql import functions as F\n",
    "from pyspark.sql.types import StringType, DateType\n",
    "\n",
    "# Add full name column first\n",
    "customers_df = customers_df.withColumn(\n",
    "    \"name\", F.concat_ws(\" \", F.col(\"first_name\"), F.col(\"last_name\"))\n",
    ")\n",
    "\n",
    "# 1) Data Audit Functions\n",
    "\n",
    "def get_row_counts(df: DataFrame, id_col: str = None):\n",
    "    total = df.count()\n",
    "    distinct = df.select(id_col).distinct().count() if id_col else None\n",
    "    return total, distinct\n",
    "\n",
    "\n",
    "def get_null_counts(df: DataFrame):\n",
    "    null_exprs = [F.count(F.when(F.col(c).isNull(), c)).alias(c) for c in df.columns]\n",
    "    return (\n",
    "        df.select(null_exprs)\n",
    "          .toPandas()\n",
    "          .T.rename(columns={0: \"null_count\"})\n",
    "          .sort_values(\"null_count\", ascending=False)\n",
    "    )\n",
    "\n",
    "\n",
    "def get_duplicate_rows(df: DataFrame, id_col: str):\n",
    "    return (\n",
    "        df.groupBy(id_col)\n",
    "          .count()\n",
    "          .filter(F.col(\"count\") > 1)\n",
    "          .orderBy(F.col(\"count\").desc())\n",
    "    )\n",
    "\n",
    "\n",
    "def get_date_summary(df: DataFrame, date_col: str):\n",
    "    return df.select(date_col).summary()\n",
    "\n",
    "\n",
    "# 2) Data Cleaning Functions\n",
    "\n",
    "def drop_duplicates(df: DataFrame, id_col: str):\n",
    "    return df.dropDuplicates([id_col])\n",
    "\n",
    "\n",
    "def fill_missing_values(df: DataFrame, strategy: dict):\n",
    "    return df.fillna(strategy)\n",
    "\n",
    "\n",
    "def standardize_strings(df: DataFrame, string_cols: list):\n",
    "    for col in string_cols:\n",
    "        df = df.withColumn(col, F.trim(F.col(col)))\n",
    "    return df\n",
    "\n",
    "\n",
    "def cast_to_date(df: DataFrame, date_cols: list, format=\"yyyy-MM-dd\"):\n",
    "    for col in date_cols:\n",
    "        df = df.withColumn(col, F.to_date(F.col(col), format))\n",
    "    return df\n",
    "\n",
    "# 3) Apply on Customers Dataset\n",
    "\n",
    "# --- Audit ---\n",
    "total_rows, distinct_ids = get_row_counts(customers_df, \"customer_id\")\n",
    "print(f\"Total Rows: {total_rows}, Distinct IDs: {distinct_ids}\")\n",
    "\n",
    "display(get_null_counts(customers_df))\n",
    "display(get_duplicate_rows(customers_df, \"customer_id\"))\n",
    "display(get_date_summary(customers_df, \"date_of_birth\"))\n",
    "\n",
    "# --- Cleaning ---\n",
    "customers_clean_df = customers_df.transform(lambda df: drop_duplicates(df, \"customer_id\")) \\\n",
    "                                 .transform(lambda df: fill_missing_values(df, {\"name\": \"Unknown\"})) \\\n",
    "                                 .transform(lambda df: standardize_strings(df, [\"name\", \"region\"])) \\\n",
    "                                 .transform(lambda df: cast_to_date(df, [\"date_of_birth\", \"signup_date\"]))\n",
    "\n",
    "display(customers_clean_df.limit(10))\n"
   ]
  },
  {
   "cell_type": "code",
   "execution_count": 0,
   "metadata": {
    "application/vnd.databricks.v1+cell": {
     "cellMetadata": {},
     "inputWidgets": {},
     "nuid": "7a584dda-c689-447d-9ad0-a647cca136e3",
     "showTitle": false,
     "tableResultSettingsMap": {},
     "title": ""
    }
   },
   "outputs": [
    {
     "output_type": "stream",
     "name": "stdout",
     "output_type": "stream",
     "text": [
      "Duplicates after cleaning: \n"
     ]
    },
    {
     "output_type": "display_data",
     "data": {
      "text/html": [
       "<style scoped>\n",
       "  .table-result-container {\n",
       "    max-height: 300px;\n",
       "    overflow: auto;\n",
       "  }\n",
       "  table, th, td {\n",
       "    border: 1px solid black;\n",
       "    border-collapse: collapse;\n",
       "  }\n",
       "  th, td {\n",
       "    padding: 5px;\n",
       "  }\n",
       "  th {\n",
       "    text-align: left;\n",
       "  }\n",
       "</style><div class='table-result-container'><table class='table-result'><thead style='background-color: white'><tr><th>customer_id</th><th>count</th></tr></thead><tbody></tbody></table></div>"
      ]
     },
     "metadata": {
      "application/vnd.databricks.v1+output": {
       "addedWidgets": {},
       "aggData": [],
       "aggError": "",
       "aggOverflow": false,
       "aggSchema": [],
       "aggSeriesLimitReached": false,
       "aggType": "",
       "arguments": {},
       "columnCustomDisplayInfos": {},
       "data": [],
       "datasetInfos": [],
       "dbfsResultPath": null,
       "isJsonSchema": true,
       "metadata": {},
       "overflow": false,
       "plotOptions": {
        "customPlotOptions": {},
        "displayType": "table",
        "pivotAggregation": null,
        "pivotColumns": null,
        "xColumns": null,
        "yColumns": null
       },
       "removedWidgets": [],
       "schema": [
        {
         "metadata": "{}",
         "name": "customer_id",
         "type": "\"string\""
        },
        {
         "metadata": "{}",
         "name": "count",
         "type": "\"long\""
        }
       ],
       "type": "table"
      }
     },
     "output_type": "display_data"
    },
    {
     "output_type": "stream",
     "name": "stdout",
     "output_type": "stream",
     "text": [
      "Null Counts after cleaning: \n"
     ]
    },
    {
     "output_type": "display_data",
     "data": {
      "text/html": [
       "<style scoped>\n",
       "  .table-result-container {\n",
       "    max-height: 300px;\n",
       "    overflow: auto;\n",
       "  }\n",
       "  table, th, td {\n",
       "    border: 1px solid black;\n",
       "    border-collapse: collapse;\n",
       "  }\n",
       "  th, td {\n",
       "    padding: 5px;\n",
       "  }\n",
       "  th {\n",
       "    text-align: left;\n",
       "  }\n",
       "</style><div class='table-result-container'><table class='table-result'><thead style='background-color: white'><tr><th>null_count</th></tr></thead><tbody><tr><td>0</td></tr><tr><td>0</td></tr><tr><td>0</td></tr><tr><td>0</td></tr><tr><td>0</td></tr><tr><td>0</td></tr><tr><td>0</td></tr><tr><td>0</td></tr><tr><td>0</td></tr><tr><td>0</td></tr></tbody></table></div>"
      ]
     },
     "metadata": {
      "application/vnd.databricks.v1+output": {
       "addedWidgets": {},
       "aggData": [],
       "aggError": "",
       "aggOverflow": false,
       "aggSchema": [],
       "aggSeriesLimitReached": false,
       "aggType": "",
       "arguments": {},
       "columnCustomDisplayInfos": {},
       "data": [
        [
         0
        ],
        [
         0
        ],
        [
         0
        ],
        [
         0
        ],
        [
         0
        ],
        [
         0
        ],
        [
         0
        ],
        [
         0
        ],
        [
         0
        ],
        [
         0
        ]
       ],
       "datasetInfos": [],
       "dbfsResultPath": null,
       "isJsonSchema": true,
       "metadata": {},
       "overflow": false,
       "plotOptions": {
        "customPlotOptions": {},
        "displayType": "table",
        "pivotAggregation": null,
        "pivotColumns": null,
        "xColumns": null,
        "yColumns": null
       },
       "removedWidgets": [],
       "schema": [
        {
         "metadata": "{}",
         "name": "null_count",
         "type": "\"long\""
        }
       ],
       "type": "table"
      }
     },
     "output_type": "display_data"
    },
    {
     "output_type": "stream",
     "name": "stdout",
     "output_type": "stream",
     "text": [
      "Schema after cleaning: \nroot\n |-- customer_id: string (nullable = true)\n |-- first_name: string (nullable = true)\n |-- last_name: string (nullable = true)\n |-- email: string (nullable = true)\n |-- gender: string (nullable = true)\n |-- date_of_birth: date (nullable = true)\n |-- signup_date: date (nullable = true)\n |-- region: string (nullable = true)\n |-- customer_segment: string (nullable = true)\n |-- name: string (nullable = false)\n\n"
     ]
    }
   ],
   "source": []
  },
  {
   "cell_type": "code",
   "execution_count": 0,
   "metadata": {
    "application/vnd.databricks.v1+cell": {
     "cellMetadata": {
      "byteLimit": 2048000,
      "rowLimit": 10000
     },
     "inputWidgets": {},
     "nuid": "977307af-e592-4c0d-be37-bfe00c4367eb",
     "showTitle": false,
     "tableResultSettingsMap": {},
     "title": ""
    }
   },
   "outputs": [
    {
     "output_type": "stream",
     "name": "stdout",
     "output_type": "stream",
     "text": [
      "Total Rows: 500, Distinct IDs: 500\n"
     ]
    },
    {
     "output_type": "display_data",
     "data": {
      "text/html": [
       "<style scoped>\n",
       "  .table-result-container {\n",
       "    max-height: 300px;\n",
       "    overflow: auto;\n",
       "  }\n",
       "  table, th, td {\n",
       "    border: 1px solid black;\n",
       "    border-collapse: collapse;\n",
       "  }\n",
       "  th, td {\n",
       "    padding: 5px;\n",
       "  }\n",
       "  th {\n",
       "    text-align: left;\n",
       "  }\n",
       "</style><div class='table-result-container'><table class='table-result'><thead style='background-color: white'><tr><th>null_count</th></tr></thead><tbody><tr><td>0</td></tr><tr><td>0</td></tr><tr><td>0</td></tr><tr><td>0</td></tr><tr><td>0</td></tr><tr><td>0</td></tr></tbody></table></div>"
      ]
     },
     "metadata": {
      "application/vnd.databricks.v1+output": {
       "addedWidgets": {},
       "aggData": [],
       "aggError": "",
       "aggOverflow": false,
       "aggSchema": [],
       "aggSeriesLimitReached": false,
       "aggType": "",
       "arguments": {},
       "columnCustomDisplayInfos": {},
       "data": [
        [
         0
        ],
        [
         0
        ],
        [
         0
        ],
        [
         0
        ],
        [
         0
        ],
        [
         0
        ]
       ],
       "datasetInfos": [],
       "dbfsResultPath": null,
       "isJsonSchema": true,
       "metadata": {},
       "overflow": false,
       "plotOptions": {
        "customPlotOptions": {},
        "displayType": "table",
        "pivotAggregation": null,
        "pivotColumns": null,
        "xColumns": null,
        "yColumns": null
       },
       "removedWidgets": [],
       "schema": [
        {
         "metadata": "{}",
         "name": "null_count",
         "type": "\"long\""
        }
       ],
       "type": "table"
      }
     },
     "output_type": "display_data"
    },
    {
     "output_type": "display_data",
     "data": {
      "text/html": [
       "<style scoped>\n",
       "  .table-result-container {\n",
       "    max-height: 300px;\n",
       "    overflow: auto;\n",
       "  }\n",
       "  table, th, td {\n",
       "    border: 1px solid black;\n",
       "    border-collapse: collapse;\n",
       "  }\n",
       "  th, td {\n",
       "    padding: 5px;\n",
       "  }\n",
       "  th {\n",
       "    text-align: left;\n",
       "  }\n",
       "</style><div class='table-result-container'><table class='table-result'><thead style='background-color: white'><tr><th>product_id</th><th>count</th></tr></thead><tbody></tbody></table></div>"
      ]
     },
     "metadata": {
      "application/vnd.databricks.v1+output": {
       "addedWidgets": {},
       "aggData": [],
       "aggError": "",
       "aggOverflow": false,
       "aggSchema": [],
       "aggSeriesLimitReached": false,
       "aggType": "",
       "arguments": {},
       "columnCustomDisplayInfos": {},
       "data": [],
       "datasetInfos": [],
       "dbfsResultPath": null,
       "isJsonSchema": true,
       "metadata": {},
       "overflow": false,
       "plotOptions": {
        "customPlotOptions": {},
        "displayType": "table",
        "pivotAggregation": null,
        "pivotColumns": null,
        "xColumns": null,
        "yColumns": null
       },
       "removedWidgets": [],
       "schema": [
        {
         "metadata": "{}",
         "name": "product_id",
         "type": "\"string\""
        },
        {
         "metadata": "{}",
         "name": "count",
         "type": "\"long\""
        }
       ],
       "type": "table"
      }
     },
     "output_type": "display_data"
    },
    {
     "output_type": "stream",
     "name": "stdout",
     "output_type": "stream",
     "text": [
      "Products dataset after cleaning: \n"
     ]
    },
    {
     "output_type": "display_data",
     "data": {
      "text/html": [
       "<style scoped>\n",
       "  .table-result-container {\n",
       "    max-height: 300px;\n",
       "    overflow: auto;\n",
       "  }\n",
       "  table, th, td {\n",
       "    border: 1px solid black;\n",
       "    border-collapse: collapse;\n",
       "  }\n",
       "  th, td {\n",
       "    padding: 5px;\n",
       "  }\n",
       "  th {\n",
       "    text-align: left;\n",
       "  }\n",
       "</style><div class='table-result-container'><table class='table-result'><thead style='background-color: white'><tr><th>null_count</th></tr></thead><tbody><tr><td>0</td></tr><tr><td>0</td></tr><tr><td>0</td></tr><tr><td>0</td></tr><tr><td>0</td></tr><tr><td>0</td></tr></tbody></table></div>"
      ]
     },
     "metadata": {
      "application/vnd.databricks.v1+output": {
       "addedWidgets": {},
       "aggData": [],
       "aggError": "",
       "aggOverflow": false,
       "aggSchema": [],
       "aggSeriesLimitReached": false,
       "aggType": "",
       "arguments": {},
       "columnCustomDisplayInfos": {},
       "data": [
        [
         0
        ],
        [
         0
        ],
        [
         0
        ],
        [
         0
        ],
        [
         0
        ],
        [
         0
        ]
       ],
       "datasetInfos": [],
       "dbfsResultPath": null,
       "isJsonSchema": true,
       "metadata": {},
       "overflow": false,
       "plotOptions": {
        "customPlotOptions": {},
        "displayType": "table",
        "pivotAggregation": null,
        "pivotColumns": null,
        "xColumns": null,
        "yColumns": null
       },
       "removedWidgets": [],
       "schema": [
        {
         "metadata": "{}",
         "name": "null_count",
         "type": "\"long\""
        }
       ],
       "type": "table"
      }
     },
     "output_type": "display_data"
    },
    {
     "output_type": "stream",
     "name": "stdout",
     "output_type": "stream",
     "text": [
      "root\n |-- product_id: string (nullable = true)\n |-- product_name: string (nullable = true)\n |-- category: string (nullable = false)\n |-- brand: string (nullable = false)\n |-- cost_price: double (nullable = true)\n |-- selling_price: double (nullable = true)\n\n"
     ]
    }
   ],
   "source": [
    "# Ingesting Product Dataset\n",
    "products_df = spark.table(\"cip.products\") \n",
    "\n",
    "# Audit Products Dataset\n",
    "total_rows, distinct_ids = get_row_counts(products_df, \"product_id\")\n",
    "print(f\"Total Rows: {total_rows}, Distinct IDs: {distinct_ids}\")\n",
    "\n",
    "display(get_null_counts(products_df))\n",
    "display(get_duplicate_rows(products_df, \"product_id\"))\n",
    "\n",
    "# Clean Products dataset\n",
    "products_clean_df = products_df.transform(lambda df: drop_duplicates(df, \"product_id\")) \\\n",
    "                               .transform(lambda df: fill_missing_values(df, {\"category\" : \"Unknown\", \"brand\" : \"Unknown\"})) \\\n",
    "                               .transform(lambda df:standardize_strings(df, [\"category\", \"brand\"]))\n",
    "\n",
    "# Final audit after cleaning\n",
    "print(\"Products dataset after cleaning: \")\n",
    "display(get_null_counts(products_clean_df))\n",
    "products_clean_df.printSchema()"
   ]
  },
  {
   "cell_type": "code",
   "execution_count": 0,
   "metadata": {
    "application/vnd.databricks.v1+cell": {
     "cellMetadata": {
      "byteLimit": 2048000,
      "rowLimit": 10000
     },
     "inputWidgets": {},
     "nuid": "b03b2806-0910-408f-b155-53aa5f07fecb",
     "showTitle": false,
     "tableResultSettingsMap": {},
     "title": ""
    }
   },
   "outputs": [
    {
     "output_type": "stream",
     "name": "stdout",
     "output_type": "stream",
     "text": [
      "Transactions --> Total Rows: 50000, Distinct IDs: 50000\n"
     ]
    },
    {
     "output_type": "display_data",
     "data": {
      "text/html": [
       "<style scoped>\n",
       "  .table-result-container {\n",
       "    max-height: 300px;\n",
       "    overflow: auto;\n",
       "  }\n",
       "  table, th, td {\n",
       "    border: 1px solid black;\n",
       "    border-collapse: collapse;\n",
       "  }\n",
       "  th, td {\n",
       "    padding: 5px;\n",
       "  }\n",
       "  th {\n",
       "    text-align: left;\n",
       "  }\n",
       "</style><div class='table-result-container'><table class='table-result'><thead style='background-color: white'><tr><th>null_count</th></tr></thead><tbody><tr><td>0</td></tr><tr><td>0</td></tr><tr><td>0</td></tr><tr><td>0</td></tr><tr><td>0</td></tr><tr><td>0</td></tr><tr><td>0</td></tr><tr><td>0</td></tr></tbody></table></div>"
      ]
     },
     "metadata": {
      "application/vnd.databricks.v1+output": {
       "addedWidgets": {},
       "aggData": [],
       "aggError": "",
       "aggOverflow": false,
       "aggSchema": [],
       "aggSeriesLimitReached": false,
       "aggType": "",
       "arguments": {},
       "columnCustomDisplayInfos": {},
       "data": [
        [
         0
        ],
        [
         0
        ],
        [
         0
        ],
        [
         0
        ],
        [
         0
        ],
        [
         0
        ],
        [
         0
        ],
        [
         0
        ]
       ],
       "datasetInfos": [],
       "dbfsResultPath": null,
       "isJsonSchema": true,
       "metadata": {},
       "overflow": false,
       "plotOptions": {
        "customPlotOptions": {},
        "displayType": "table",
        "pivotAggregation": null,
        "pivotColumns": null,
        "xColumns": null,
        "yColumns": null
       },
       "removedWidgets": [],
       "schema": [
        {
         "metadata": "{}",
         "name": "null_count",
         "type": "\"long\""
        }
       ],
       "type": "table"
      }
     },
     "output_type": "display_data"
    },
    {
     "output_type": "display_data",
     "data": {
      "text/html": [
       "<style scoped>\n",
       "  .table-result-container {\n",
       "    max-height: 300px;\n",
       "    overflow: auto;\n",
       "  }\n",
       "  table, th, td {\n",
       "    border: 1px solid black;\n",
       "    border-collapse: collapse;\n",
       "  }\n",
       "  th, td {\n",
       "    padding: 5px;\n",
       "  }\n",
       "  th {\n",
       "    text-align: left;\n",
       "  }\n",
       "</style><div class='table-result-container'><table class='table-result'><thead style='background-color: white'><tr><th>transaction_id</th><th>count</th></tr></thead><tbody></tbody></table></div>"
      ]
     },
     "metadata": {
      "application/vnd.databricks.v1+output": {
       "addedWidgets": {},
       "aggData": [],
       "aggError": "",
       "aggOverflow": false,
       "aggSchema": [],
       "aggSeriesLimitReached": false,
       "aggType": "",
       "arguments": {},
       "columnCustomDisplayInfos": {},
       "data": [],
       "datasetInfos": [],
       "dbfsResultPath": null,
       "isJsonSchema": true,
       "metadata": {},
       "overflow": false,
       "plotOptions": {
        "customPlotOptions": {},
        "displayType": "table",
        "pivotAggregation": null,
        "pivotColumns": null,
        "xColumns": null,
        "yColumns": null
       },
       "removedWidgets": [],
       "schema": [
        {
         "metadata": "{}",
         "name": "transaction_id",
         "type": "\"string\""
        },
        {
         "metadata": "{}",
         "name": "count",
         "type": "\"long\""
        }
       ],
       "type": "table"
      }
     },
     "output_type": "display_data"
    },
    {
     "output_type": "display_data",
     "data": {
      "text/html": [
       "<style scoped>\n",
       "  .table-result-container {\n",
       "    max-height: 300px;\n",
       "    overflow: auto;\n",
       "  }\n",
       "  table, th, td {\n",
       "    border: 1px solid black;\n",
       "    border-collapse: collapse;\n",
       "  }\n",
       "  th, td {\n",
       "    padding: 5px;\n",
       "  }\n",
       "  th {\n",
       "    text-align: left;\n",
       "  }\n",
       "</style><div class='table-result-container'><table class='table-result'><thead style='background-color: white'><tr><th>summary</th></tr></thead><tbody><tr><td>count</td></tr><tr><td>mean</td></tr><tr><td>stddev</td></tr><tr><td>min</td></tr><tr><td>25%</td></tr><tr><td>50%</td></tr><tr><td>75%</td></tr><tr><td>max</td></tr></tbody></table></div>"
      ]
     },
     "metadata": {
      "application/vnd.databricks.v1+output": {
       "addedWidgets": {},
       "aggData": [],
       "aggError": "",
       "aggOverflow": false,
       "aggSchema": [],
       "aggSeriesLimitReached": false,
       "aggType": "",
       "arguments": {},
       "columnCustomDisplayInfos": {},
       "data": [
        [
         "count"
        ],
        [
         "mean"
        ],
        [
         "stddev"
        ],
        [
         "min"
        ],
        [
         "25%"
        ],
        [
         "50%"
        ],
        [
         "75%"
        ],
        [
         "max"
        ]
       ],
       "datasetInfos": [],
       "dbfsResultPath": null,
       "isJsonSchema": true,
       "metadata": {},
       "overflow": false,
       "plotOptions": {
        "customPlotOptions": {},
        "displayType": "table",
        "pivotAggregation": null,
        "pivotColumns": null,
        "xColumns": null,
        "yColumns": null
       },
       "removedWidgets": [],
       "schema": [
        {
         "metadata": "{}",
         "name": "summary",
         "type": "\"string\""
        }
       ],
       "type": "table"
      }
     },
     "output_type": "display_data"
    },
    {
     "output_type": "stream",
     "name": "stdout",
     "output_type": "stream",
     "text": [
      "Transactions dataset after cleaning: \n"
     ]
    },
    {
     "output_type": "display_data",
     "data": {
      "text/html": [
       "<style scoped>\n",
       "  .table-result-container {\n",
       "    max-height: 300px;\n",
       "    overflow: auto;\n",
       "  }\n",
       "  table, th, td {\n",
       "    border: 1px solid black;\n",
       "    border-collapse: collapse;\n",
       "  }\n",
       "  th, td {\n",
       "    padding: 5px;\n",
       "  }\n",
       "  th {\n",
       "    text-align: left;\n",
       "  }\n",
       "</style><div class='table-result-container'><table class='table-result'><thead style='background-color: white'><tr><th>null_count</th></tr></thead><tbody><tr><td>0</td></tr><tr><td>0</td></tr><tr><td>0</td></tr><tr><td>0</td></tr><tr><td>0</td></tr><tr><td>0</td></tr><tr><td>0</td></tr><tr><td>0</td></tr></tbody></table></div>"
      ]
     },
     "metadata": {
      "application/vnd.databricks.v1+output": {
       "addedWidgets": {},
       "aggData": [],
       "aggError": "",
       "aggOverflow": false,
       "aggSchema": [],
       "aggSeriesLimitReached": false,
       "aggType": "",
       "arguments": {},
       "columnCustomDisplayInfos": {},
       "data": [
        [
         0
        ],
        [
         0
        ],
        [
         0
        ],
        [
         0
        ],
        [
         0
        ],
        [
         0
        ],
        [
         0
        ],
        [
         0
        ]
       ],
       "datasetInfos": [],
       "dbfsResultPath": null,
       "isJsonSchema": true,
       "metadata": {},
       "overflow": false,
       "plotOptions": {
        "customPlotOptions": {},
        "displayType": "table",
        "pivotAggregation": null,
        "pivotColumns": null,
        "xColumns": null,
        "yColumns": null
       },
       "removedWidgets": [],
       "schema": [
        {
         "metadata": "{}",
         "name": "null_count",
         "type": "\"long\""
        }
       ],
       "type": "table"
      }
     },
     "output_type": "display_data"
    },
    {
     "output_type": "stream",
     "name": "stdout",
     "output_type": "stream",
     "text": [
      "root\n |-- transaction_id: string (nullable = true)\n |-- customer_id: string (nullable = true)\n |-- product_id: string (nullable = false)\n |-- quantity: long (nullable = true)\n |-- price: double (nullable = true)\n |-- amount: double (nullable = true)\n |-- payment_method: string (nullable = false)\n |-- transaction_date: date (nullable = true)\n\n"
     ]
    }
   ],
   "source": [
    "# Ingesting Transactions Dataset\n",
    "transactions_df = spark.table(\"cip.transactions\")\n",
    "\n",
    "# Audit Transaction Datasets\n",
    "total_rows, distinct_ids = get_row_counts(transactions_df, \"transaction_id\")\n",
    "print(f\"Transactions --> Total Rows: {total_rows}, Distinct IDs: {distinct_ids}\")\n",
    "\n",
    "display(get_null_counts(transactions_df))\n",
    "display(get_duplicate_rows(transactions_df, \"transaction_id\"))\n",
    "display(get_date_summary(transactions_df, \"transaction_date\"))\n",
    "\n",
    "# Clean Transactions Dataset\n",
    "transactions_clean_df = transactions_df.transform(lambda df: drop_duplicates(df, \"transaction_id\")) \\\n",
    "                                       .transform(lambda df: fill_missing_values(df, {\"payment_method\" : \"Unknown\",\n",
    "                                                                                      \"product_id\" : \"Unknown\"})) \\\n",
    "                                       .transform(lambda df:standardize_strings(df, [\"payment_method\"])) \\\n",
    "                                       .transform(lambda df: cast_to_date(df, [\"transaction_date\"]))\n",
    "\n",
    "# Final Audit afterr cleaning\n",
    "print(\"Transactions dataset after cleaning: \")\n",
    "display(get_null_counts(transactions_clean_df))\n",
    "transactions_clean_df.printSchema()"
   ]
  },
  {
   "cell_type": "code",
   "execution_count": 0,
   "metadata": {
    "application/vnd.databricks.v1+cell": {
     "cellMetadata": {
      "byteLimit": 2048000,
      "rowLimit": 10000
     },
     "inputWidgets": {},
     "nuid": "14593645-3f1a-48f2-adf8-1406c8251c4f",
     "showTitle": false,
     "tableResultSettingsMap": {},
     "title": ""
    }
   },
   "outputs": [
    {
     "output_type": "stream",
     "name": "stdout",
     "output_type": "stream",
     "text": [
      "Returns --> Total Rows: 1500, Distinct IDs: 1500\n"
     ]
    },
    {
     "output_type": "display_data",
     "data": {
      "text/html": [
       "<style scoped>\n",
       "  .table-result-container {\n",
       "    max-height: 300px;\n",
       "    overflow: auto;\n",
       "  }\n",
       "  table, th, td {\n",
       "    border: 1px solid black;\n",
       "    border-collapse: collapse;\n",
       "  }\n",
       "  th, td {\n",
       "    padding: 5px;\n",
       "  }\n",
       "  th {\n",
       "    text-align: left;\n",
       "  }\n",
       "</style><div class='table-result-container'><table class='table-result'><thead style='background-color: white'><tr><th>null_count</th></tr></thead><tbody><tr><td>0</td></tr><tr><td>0</td></tr><tr><td>0</td></tr><tr><td>0</td></tr><tr><td>0</td></tr><tr><td>0</td></tr><tr><td>0</td></tr></tbody></table></div>"
      ]
     },
     "metadata": {
      "application/vnd.databricks.v1+output": {
       "addedWidgets": {},
       "aggData": [],
       "aggError": "",
       "aggOverflow": false,
       "aggSchema": [],
       "aggSeriesLimitReached": false,
       "aggType": "",
       "arguments": {},
       "columnCustomDisplayInfos": {},
       "data": [
        [
         0
        ],
        [
         0
        ],
        [
         0
        ],
        [
         0
        ],
        [
         0
        ],
        [
         0
        ],
        [
         0
        ]
       ],
       "datasetInfos": [],
       "dbfsResultPath": null,
       "isJsonSchema": true,
       "metadata": {},
       "overflow": false,
       "plotOptions": {
        "customPlotOptions": {},
        "displayType": "table",
        "pivotAggregation": null,
        "pivotColumns": null,
        "xColumns": null,
        "yColumns": null
       },
       "removedWidgets": [],
       "schema": [
        {
         "metadata": "{}",
         "name": "null_count",
         "type": "\"long\""
        }
       ],
       "type": "table"
      }
     },
     "output_type": "display_data"
    },
    {
     "output_type": "display_data",
     "data": {
      "text/html": [
       "<style scoped>\n",
       "  .table-result-container {\n",
       "    max-height: 300px;\n",
       "    overflow: auto;\n",
       "  }\n",
       "  table, th, td {\n",
       "    border: 1px solid black;\n",
       "    border-collapse: collapse;\n",
       "  }\n",
       "  th, td {\n",
       "    padding: 5px;\n",
       "  }\n",
       "  th {\n",
       "    text-align: left;\n",
       "  }\n",
       "</style><div class='table-result-container'><table class='table-result'><thead style='background-color: white'><tr><th>return_id</th><th>count</th></tr></thead><tbody></tbody></table></div>"
      ]
     },
     "metadata": {
      "application/vnd.databricks.v1+output": {
       "addedWidgets": {},
       "aggData": [],
       "aggError": "",
       "aggOverflow": false,
       "aggSchema": [],
       "aggSeriesLimitReached": false,
       "aggType": "",
       "arguments": {},
       "columnCustomDisplayInfos": {},
       "data": [],
       "datasetInfos": [],
       "dbfsResultPath": null,
       "isJsonSchema": true,
       "metadata": {},
       "overflow": false,
       "plotOptions": {
        "customPlotOptions": {},
        "displayType": "table",
        "pivotAggregation": null,
        "pivotColumns": null,
        "xColumns": null,
        "yColumns": null
       },
       "removedWidgets": [],
       "schema": [
        {
         "metadata": "{}",
         "name": "return_id",
         "type": "\"string\""
        },
        {
         "metadata": "{}",
         "name": "count",
         "type": "\"long\""
        }
       ],
       "type": "table"
      }
     },
     "output_type": "display_data"
    },
    {
     "output_type": "display_data",
     "data": {
      "text/html": [
       "<style scoped>\n",
       "  .table-result-container {\n",
       "    max-height: 300px;\n",
       "    overflow: auto;\n",
       "  }\n",
       "  table, th, td {\n",
       "    border: 1px solid black;\n",
       "    border-collapse: collapse;\n",
       "  }\n",
       "  th, td {\n",
       "    padding: 5px;\n",
       "  }\n",
       "  th {\n",
       "    text-align: left;\n",
       "  }\n",
       "</style><div class='table-result-container'><table class='table-result'><thead style='background-color: white'><tr><th>summary</th></tr></thead><tbody><tr><td>count</td></tr><tr><td>mean</td></tr><tr><td>stddev</td></tr><tr><td>min</td></tr><tr><td>25%</td></tr><tr><td>50%</td></tr><tr><td>75%</td></tr><tr><td>max</td></tr></tbody></table></div>"
      ]
     },
     "metadata": {
      "application/vnd.databricks.v1+output": {
       "addedWidgets": {},
       "aggData": [],
       "aggError": "",
       "aggOverflow": false,
       "aggSchema": [],
       "aggSeriesLimitReached": false,
       "aggType": "",
       "arguments": {},
       "columnCustomDisplayInfos": {},
       "data": [
        [
         "count"
        ],
        [
         "mean"
        ],
        [
         "stddev"
        ],
        [
         "min"
        ],
        [
         "25%"
        ],
        [
         "50%"
        ],
        [
         "75%"
        ],
        [
         "max"
        ]
       ],
       "datasetInfos": [],
       "dbfsResultPath": null,
       "isJsonSchema": true,
       "metadata": {},
       "overflow": false,
       "plotOptions": {
        "customPlotOptions": {},
        "displayType": "table",
        "pivotAggregation": null,
        "pivotColumns": null,
        "xColumns": null,
        "yColumns": null
       },
       "removedWidgets": [],
       "schema": [
        {
         "metadata": "{}",
         "name": "summary",
         "type": "\"string\""
        }
       ],
       "type": "table"
      }
     },
     "output_type": "display_data"
    },
    {
     "output_type": "stream",
     "name": "stdout",
     "output_type": "stream",
     "text": [
      "Returns dataset after cleaning: \n"
     ]
    },
    {
     "output_type": "display_data",
     "data": {
      "text/html": [
       "<style scoped>\n",
       "  .table-result-container {\n",
       "    max-height: 300px;\n",
       "    overflow: auto;\n",
       "  }\n",
       "  table, th, td {\n",
       "    border: 1px solid black;\n",
       "    border-collapse: collapse;\n",
       "  }\n",
       "  th, td {\n",
       "    padding: 5px;\n",
       "  }\n",
       "  th {\n",
       "    text-align: left;\n",
       "  }\n",
       "</style><div class='table-result-container'><table class='table-result'><thead style='background-color: white'><tr><th>null_count</th></tr></thead><tbody><tr><td>0</td></tr><tr><td>0</td></tr><tr><td>0</td></tr><tr><td>0</td></tr><tr><td>0</td></tr><tr><td>0</td></tr><tr><td>0</td></tr></tbody></table></div>"
      ]
     },
     "metadata": {
      "application/vnd.databricks.v1+output": {
       "addedWidgets": {},
       "aggData": [],
       "aggError": "",
       "aggOverflow": false,
       "aggSchema": [],
       "aggSeriesLimitReached": false,
       "aggType": "",
       "arguments": {},
       "columnCustomDisplayInfos": {},
       "data": [
        [
         0
        ],
        [
         0
        ],
        [
         0
        ],
        [
         0
        ],
        [
         0
        ],
        [
         0
        ],
        [
         0
        ]
       ],
       "datasetInfos": [],
       "dbfsResultPath": null,
       "isJsonSchema": true,
       "metadata": {},
       "overflow": false,
       "plotOptions": {
        "customPlotOptions": {},
        "displayType": "table",
        "pivotAggregation": null,
        "pivotColumns": null,
        "xColumns": null,
        "yColumns": null
       },
       "removedWidgets": [],
       "schema": [
        {
         "metadata": "{}",
         "name": "null_count",
         "type": "\"long\""
        }
       ],
       "type": "table"
      }
     },
     "output_type": "display_data"
    },
    {
     "output_type": "stream",
     "name": "stdout",
     "output_type": "stream",
     "text": [
      "root\n |-- return_id: string (nullable = true)\n |-- transaction_id: string (nullable = true)\n |-- customer_id: string (nullable = true)\n |-- product_id: string (nullable = false)\n |-- amount: double (nullable = true)\n |-- return_reason: string (nullable = false)\n |-- return_date: date (nullable = true)\n\n"
     ]
    }
   ],
   "source": [
    "# Ingesting Returns Dataset\n",
    "returns_df = spark.table(\"cip.returns\")\n",
    "\n",
    "# Audit Returns Dataset\n",
    "total_rows, distinct_ids = get_row_counts(returns_df, \"return_id\")\n",
    "print(f\"Returns --> Total Rows: {total_rows}, Distinct IDs: {distinct_ids}\")\n",
    "\n",
    "display(get_null_counts(returns_df))\n",
    "display(get_duplicate_rows(returns_df, \"return_id\"))\n",
    "display(get_date_summary(returns_df, \"return_date\"))\n",
    "\n",
    "# Clean Returns Dataset\n",
    "returns_clean_df = returns_df.transform(lambda df: drop_duplicates(df, \"return_id\")) \\\n",
    "                              .transform(lambda df: fill_missing_values(df, {\n",
    "                                  \"return_reason\" : \"Not Specified\", \n",
    "                                  \"product_id\" : \"Unknown\"\n",
    "                              })) \\\n",
    "                              .transform(lambda df:standardize_strings(df, [\"return_reason\"])) \\\n",
    "                              .transform(lambda df: cast_to_date(df, [\"return_date\"]))\n",
    "\n",
    "# Final Audit after cleaning\n",
    "print(\"Returns dataset after cleaning: \")\n",
    "display(get_null_counts(returns_clean_df))\n",
    "returns_clean_df.printSchema()"
   ]
  },
  {
   "cell_type": "code",
   "execution_count": 0,
   "metadata": {
    "application/vnd.databricks.v1+cell": {
     "cellMetadata": {
      "byteLimit": 2048000,
      "rowLimit": 10000
     },
     "inputWidgets": {},
     "nuid": "ce1dc4d6-94dd-4446-affb-6f0e39341fbb",
     "showTitle": false,
     "tableResultSettingsMap": {},
     "title": ""
    }
   },
   "outputs": [
    {
     "output_type": "stream",
     "name": "stdout",
     "output_type": "stream",
     "text": [
      "Support Tickets → Total Rows: 10000, Distinct IDs: 10000\n"
     ]
    },
    {
     "output_type": "display_data",
     "data": {
      "text/html": [
       "<style scoped>\n",
       "  .table-result-container {\n",
       "    max-height: 300px;\n",
       "    overflow: auto;\n",
       "  }\n",
       "  table, th, td {\n",
       "    border: 1px solid black;\n",
       "    border-collapse: collapse;\n",
       "  }\n",
       "  th, td {\n",
       "    padding: 5px;\n",
       "  }\n",
       "  th {\n",
       "    text-align: left;\n",
       "  }\n",
       "</style><div class='table-result-container'><table class='table-result'><thead style='background-color: white'><tr><th>null_count</th></tr></thead><tbody><tr><td>5019</td></tr><tr><td>0</td></tr><tr><td>0</td></tr><tr><td>0</td></tr><tr><td>0</td></tr><tr><td>0</td></tr><tr><td>0</td></tr></tbody></table></div>"
      ]
     },
     "metadata": {
      "application/vnd.databricks.v1+output": {
       "addedWidgets": {},
       "aggData": [],
       "aggError": "",
       "aggOverflow": false,
       "aggSchema": [],
       "aggSeriesLimitReached": false,
       "aggType": "",
       "arguments": {},
       "columnCustomDisplayInfos": {},
       "data": [
        [
         5019
        ],
        [
         0
        ],
        [
         0
        ],
        [
         0
        ],
        [
         0
        ],
        [
         0
        ],
        [
         0
        ]
       ],
       "datasetInfos": [],
       "dbfsResultPath": null,
       "isJsonSchema": true,
       "metadata": {},
       "overflow": false,
       "plotOptions": {
        "customPlotOptions": {},
        "displayType": "table",
        "pivotAggregation": null,
        "pivotColumns": null,
        "xColumns": null,
        "yColumns": null
       },
       "removedWidgets": [],
       "schema": [
        {
         "metadata": "{}",
         "name": "null_count",
         "type": "\"long\""
        }
       ],
       "type": "table"
      }
     },
     "output_type": "display_data"
    },
    {
     "output_type": "display_data",
     "data": {
      "text/html": [
       "<style scoped>\n",
       "  .table-result-container {\n",
       "    max-height: 300px;\n",
       "    overflow: auto;\n",
       "  }\n",
       "  table, th, td {\n",
       "    border: 1px solid black;\n",
       "    border-collapse: collapse;\n",
       "  }\n",
       "  th, td {\n",
       "    padding: 5px;\n",
       "  }\n",
       "  th {\n",
       "    text-align: left;\n",
       "  }\n",
       "</style><div class='table-result-container'><table class='table-result'><thead style='background-color: white'><tr><th>ticket_id</th><th>count</th></tr></thead><tbody></tbody></table></div>"
      ]
     },
     "metadata": {
      "application/vnd.databricks.v1+output": {
       "addedWidgets": {},
       "aggData": [],
       "aggError": "",
       "aggOverflow": false,
       "aggSchema": [],
       "aggSeriesLimitReached": false,
       "aggType": "",
       "arguments": {},
       "columnCustomDisplayInfos": {},
       "data": [],
       "datasetInfos": [],
       "dbfsResultPath": null,
       "isJsonSchema": true,
       "metadata": {},
       "overflow": false,
       "plotOptions": {
        "customPlotOptions": {},
        "displayType": "table",
        "pivotAggregation": null,
        "pivotColumns": null,
        "xColumns": null,
        "yColumns": null
       },
       "removedWidgets": [],
       "schema": [
        {
         "metadata": "{}",
         "name": "ticket_id",
         "type": "\"string\""
        },
        {
         "metadata": "{}",
         "name": "count",
         "type": "\"long\""
        }
       ],
       "type": "table"
      }
     },
     "output_type": "display_data"
    },
    {
     "output_type": "display_data",
     "data": {
      "text/html": [
       "<style scoped>\n",
       "  .table-result-container {\n",
       "    max-height: 300px;\n",
       "    overflow: auto;\n",
       "  }\n",
       "  table, th, td {\n",
       "    border: 1px solid black;\n",
       "    border-collapse: collapse;\n",
       "  }\n",
       "  th, td {\n",
       "    padding: 5px;\n",
       "  }\n",
       "  th {\n",
       "    text-align: left;\n",
       "  }\n",
       "</style><div class='table-result-container'><table class='table-result'><thead style='background-color: white'><tr><th>summary</th></tr></thead><tbody><tr><td>count</td></tr><tr><td>mean</td></tr><tr><td>stddev</td></tr><tr><td>min</td></tr><tr><td>25%</td></tr><tr><td>50%</td></tr><tr><td>75%</td></tr><tr><td>max</td></tr></tbody></table></div>"
      ]
     },
     "metadata": {
      "application/vnd.databricks.v1+output": {
       "addedWidgets": {},
       "aggData": [],
       "aggError": "",
       "aggOverflow": false,
       "aggSchema": [],
       "aggSeriesLimitReached": false,
       "aggType": "",
       "arguments": {},
       "columnCustomDisplayInfos": {},
       "data": [
        [
         "count"
        ],
        [
         "mean"
        ],
        [
         "stddev"
        ],
        [
         "min"
        ],
        [
         "25%"
        ],
        [
         "50%"
        ],
        [
         "75%"
        ],
        [
         "max"
        ]
       ],
       "datasetInfos": [],
       "dbfsResultPath": null,
       "isJsonSchema": true,
       "metadata": {},
       "overflow": false,
       "plotOptions": {
        "customPlotOptions": {},
        "displayType": "table",
        "pivotAggregation": null,
        "pivotColumns": null,
        "xColumns": null,
        "yColumns": null
       },
       "removedWidgets": [],
       "schema": [
        {
         "metadata": "{}",
         "name": "summary",
         "type": "\"string\""
        }
       ],
       "type": "table"
      }
     },
     "output_type": "display_data"
    },
    {
     "output_type": "display_data",
     "data": {
      "text/html": [
       "<style scoped>\n",
       "  .table-result-container {\n",
       "    max-height: 300px;\n",
       "    overflow: auto;\n",
       "  }\n",
       "  table, th, td {\n",
       "    border: 1px solid black;\n",
       "    border-collapse: collapse;\n",
       "  }\n",
       "  th, td {\n",
       "    padding: 5px;\n",
       "  }\n",
       "  th {\n",
       "    text-align: left;\n",
       "  }\n",
       "</style><div class='table-result-container'><table class='table-result'><thead style='background-color: white'><tr><th>summary</th></tr></thead><tbody><tr><td>count</td></tr><tr><td>mean</td></tr><tr><td>stddev</td></tr><tr><td>min</td></tr><tr><td>25%</td></tr><tr><td>50%</td></tr><tr><td>75%</td></tr><tr><td>max</td></tr></tbody></table></div>"
      ]
     },
     "metadata": {
      "application/vnd.databricks.v1+output": {
       "addedWidgets": {},
       "aggData": [],
       "aggError": "",
       "aggOverflow": false,
       "aggSchema": [],
       "aggSeriesLimitReached": false,
       "aggType": "",
       "arguments": {},
       "columnCustomDisplayInfos": {},
       "data": [
        [
         "count"
        ],
        [
         "mean"
        ],
        [
         "stddev"
        ],
        [
         "min"
        ],
        [
         "25%"
        ],
        [
         "50%"
        ],
        [
         "75%"
        ],
        [
         "max"
        ]
       ],
       "datasetInfos": [],
       "dbfsResultPath": null,
       "isJsonSchema": true,
       "metadata": {},
       "overflow": false,
       "plotOptions": {
        "customPlotOptions": {},
        "displayType": "table",
        "pivotAggregation": null,
        "pivotColumns": null,
        "xColumns": null,
        "yColumns": null
       },
       "removedWidgets": [],
       "schema": [
        {
         "metadata": "{}",
         "name": "summary",
         "type": "\"string\""
        }
       ],
       "type": "table"
      }
     },
     "output_type": "display_data"
    },
    {
     "output_type": "stream",
     "name": "stdout",
     "output_type": "stream",
     "text": [
      "Support Tickets dataset after cleaning:\n"
     ]
    },
    {
     "output_type": "display_data",
     "data": {
      "text/html": [
       "<style scoped>\n",
       "  .table-result-container {\n",
       "    max-height: 300px;\n",
       "    overflow: auto;\n",
       "  }\n",
       "  table, th, td {\n",
       "    border: 1px solid black;\n",
       "    border-collapse: collapse;\n",
       "  }\n",
       "  th, td {\n",
       "    padding: 5px;\n",
       "  }\n",
       "  th {\n",
       "    text-align: left;\n",
       "  }\n",
       "</style><div class='table-result-container'><table class='table-result'><thead style='background-color: white'><tr><th>null_count</th></tr></thead><tbody><tr><td>5019</td></tr><tr><td>0</td></tr><tr><td>0</td></tr><tr><td>0</td></tr><tr><td>0</td></tr><tr><td>0</td></tr><tr><td>0</td></tr></tbody></table></div>"
      ]
     },
     "metadata": {
      "application/vnd.databricks.v1+output": {
       "addedWidgets": {},
       "aggData": [],
       "aggError": "",
       "aggOverflow": false,
       "aggSchema": [],
       "aggSeriesLimitReached": false,
       "aggType": "",
       "arguments": {},
       "columnCustomDisplayInfos": {},
       "data": [
        [
         5019
        ],
        [
         0
        ],
        [
         0
        ],
        [
         0
        ],
        [
         0
        ],
        [
         0
        ],
        [
         0
        ]
       ],
       "datasetInfos": [],
       "dbfsResultPath": null,
       "isJsonSchema": true,
       "metadata": {},
       "overflow": false,
       "plotOptions": {
        "customPlotOptions": {},
        "displayType": "table",
        "pivotAggregation": null,
        "pivotColumns": null,
        "xColumns": null,
        "yColumns": null
       },
       "removedWidgets": [],
       "schema": [
        {
         "metadata": "{}",
         "name": "null_count",
         "type": "\"long\""
        }
       ],
       "type": "table"
      }
     },
     "output_type": "display_data"
    },
    {
     "output_type": "stream",
     "name": "stdout",
     "output_type": "stream",
     "text": [
      "root\n |-- ticket_id: string (nullable = true)\n |-- customer_id: string (nullable = false)\n |-- ticket_category: string (nullable = false)\n |-- priority: string (nullable = false)\n |-- status: string (nullable = false)\n |-- opened_date: date (nullable = true)\n |-- resolved_date: date (nullable = true)\n\n"
     ]
    }
   ],
   "source": [
    "# Ingesting Support Tickets Dataset\n",
    "support_df = spark.table(\"cip.support_tickets\")\n",
    "\n",
    "# Audit Support Tickets dataset\n",
    "total_rows, distinct_ids = get_row_counts(support_df, \"ticket_id\")\n",
    "print(f\"Support Tickets → Total Rows: {total_rows}, Distinct IDs: {distinct_ids}\")\n",
    "\n",
    "display(get_null_counts(support_df))\n",
    "display(get_duplicate_rows(support_df, \"ticket_id\"))\n",
    "display(get_date_summary(support_df, \"opened_date\"))\n",
    "display(get_date_summary(support_df, \"resolved_date\"))\n",
    "\n",
    "# Clean Support Tickets dataset\n",
    "support_clean_df = support_df.transform(lambda df: drop_duplicates(df, \"ticket_id\")) \\\n",
    "                             .transform(lambda df: fill_missing_values(df, {\n",
    "                                 \"priority\": \"Medium\",\n",
    "                                 \"status\": \"Open\",\n",
    "                                 \"ticket_category\": \"General\",\n",
    "                                 \"customer_id\": \"Unknown\"\n",
    "                             })) \\\n",
    "                             .transform(lambda df: standardize_strings(df, [\"priority\", \"status\", \"ticket_category\"])) \\\n",
    "                             .transform(lambda df: cast_to_date(df, [\"opened_date\", \"resolved_date\"]))\n",
    "\n",
    "# Final audit after cleaning\n",
    "print(\"Support Tickets dataset after cleaning:\")\n",
    "display(get_null_counts(support_clean_df))\n",
    "support_clean_df.printSchema()"
   ]
  },
  {
   "cell_type": "code",
   "execution_count": 0,
   "metadata": {
    "application/vnd.databricks.v1+cell": {
     "cellMetadata": {
      "byteLimit": 2048000,
      "rowLimit": 10000
     },
     "inputWidgets": {},
     "nuid": "39fd245c-41c2-4361-ac27-af6850e0a814",
     "showTitle": false,
     "tableResultSettingsMap": {},
     "title": ""
    }
   },
   "outputs": [
    {
     "output_type": "stream",
     "name": "stdout",
     "output_type": "stream",
     "text": [
      "Web Activity → Total Rows: 30000, Distinct IDs: 30000\n"
     ]
    },
    {
     "output_type": "display_data",
     "data": {
      "text/html": [
       "<style scoped>\n",
       "  .table-result-container {\n",
       "    max-height: 300px;\n",
       "    overflow: auto;\n",
       "  }\n",
       "  table, th, td {\n",
       "    border: 1px solid black;\n",
       "    border-collapse: collapse;\n",
       "  }\n",
       "  th, td {\n",
       "    padding: 5px;\n",
       "  }\n",
       "  th {\n",
       "    text-align: left;\n",
       "  }\n",
       "</style><div class='table-result-container'><table class='table-result'><thead style='background-color: white'><tr><th>null_count</th></tr></thead><tbody><tr><td>9022</td></tr><tr><td>0</td></tr><tr><td>0</td></tr><tr><td>0</td></tr><tr><td>0</td></tr></tbody></table></div>"
      ]
     },
     "metadata": {
      "application/vnd.databricks.v1+output": {
       "addedWidgets": {},
       "aggData": [],
       "aggError": "",
       "aggOverflow": false,
       "aggSchema": [],
       "aggSeriesLimitReached": false,
       "aggType": "",
       "arguments": {},
       "columnCustomDisplayInfos": {},
       "data": [
        [
         9022
        ],
        [
         0
        ],
        [
         0
        ],
        [
         0
        ],
        [
         0
        ]
       ],
       "datasetInfos": [],
       "dbfsResultPath": null,
       "isJsonSchema": true,
       "metadata": {},
       "overflow": false,
       "plotOptions": {
        "customPlotOptions": {},
        "displayType": "table",
        "pivotAggregation": null,
        "pivotColumns": null,
        "xColumns": null,
        "yColumns": null
       },
       "removedWidgets": [],
       "schema": [
        {
         "metadata": "{}",
         "name": "null_count",
         "type": "\"long\""
        }
       ],
       "type": "table"
      }
     },
     "output_type": "display_data"
    },
    {
     "output_type": "display_data",
     "data": {
      "text/html": [
       "<style scoped>\n",
       "  .table-result-container {\n",
       "    max-height: 300px;\n",
       "    overflow: auto;\n",
       "  }\n",
       "  table, th, td {\n",
       "    border: 1px solid black;\n",
       "    border-collapse: collapse;\n",
       "  }\n",
       "  th, td {\n",
       "    padding: 5px;\n",
       "  }\n",
       "  th {\n",
       "    text-align: left;\n",
       "  }\n",
       "</style><div class='table-result-container'><table class='table-result'><thead style='background-color: white'><tr><th>session_id</th><th>count</th></tr></thead><tbody></tbody></table></div>"
      ]
     },
     "metadata": {
      "application/vnd.databricks.v1+output": {
       "addedWidgets": {},
       "aggData": [],
       "aggError": "",
       "aggOverflow": false,
       "aggSchema": [],
       "aggSeriesLimitReached": false,
       "aggType": "",
       "arguments": {},
       "columnCustomDisplayInfos": {},
       "data": [],
       "datasetInfos": [],
       "dbfsResultPath": null,
       "isJsonSchema": true,
       "metadata": {},
       "overflow": false,
       "plotOptions": {
        "customPlotOptions": {},
        "displayType": "table",
        "pivotAggregation": null,
        "pivotColumns": null,
        "xColumns": null,
        "yColumns": null
       },
       "removedWidgets": [],
       "schema": [
        {
         "metadata": "{}",
         "name": "session_id",
         "type": "\"string\""
        },
        {
         "metadata": "{}",
         "name": "count",
         "type": "\"long\""
        }
       ],
       "type": "table"
      }
     },
     "output_type": "display_data"
    },
    {
     "output_type": "display_data",
     "data": {
      "text/html": [
       "<style scoped>\n",
       "  .table-result-container {\n",
       "    max-height: 300px;\n",
       "    overflow: auto;\n",
       "  }\n",
       "  table, th, td {\n",
       "    border: 1px solid black;\n",
       "    border-collapse: collapse;\n",
       "  }\n",
       "  th, td {\n",
       "    padding: 5px;\n",
       "  }\n",
       "  th {\n",
       "    text-align: left;\n",
       "  }\n",
       "</style><div class='table-result-container'><table class='table-result'><thead style='background-color: white'><tr><th>summary</th></tr></thead><tbody><tr><td>count</td></tr><tr><td>mean</td></tr><tr><td>stddev</td></tr><tr><td>min</td></tr><tr><td>25%</td></tr><tr><td>50%</td></tr><tr><td>75%</td></tr><tr><td>max</td></tr></tbody></table></div>"
      ]
     },
     "metadata": {
      "application/vnd.databricks.v1+output": {
       "addedWidgets": {},
       "aggData": [],
       "aggError": "",
       "aggOverflow": false,
       "aggSchema": [],
       "aggSeriesLimitReached": false,
       "aggType": "",
       "arguments": {},
       "columnCustomDisplayInfos": {},
       "data": [
        [
         "count"
        ],
        [
         "mean"
        ],
        [
         "stddev"
        ],
        [
         "min"
        ],
        [
         "25%"
        ],
        [
         "50%"
        ],
        [
         "75%"
        ],
        [
         "max"
        ]
       ],
       "datasetInfos": [],
       "dbfsResultPath": null,
       "isJsonSchema": true,
       "metadata": {},
       "overflow": false,
       "plotOptions": {
        "customPlotOptions": {},
        "displayType": "table",
        "pivotAggregation": null,
        "pivotColumns": null,
        "xColumns": null,
        "yColumns": null
       },
       "removedWidgets": [],
       "schema": [
        {
         "metadata": "{}",
         "name": "summary",
         "type": "\"string\""
        }
       ],
       "type": "table"
      }
     },
     "output_type": "display_data"
    },
    {
     "output_type": "stream",
     "name": "stdout",
     "output_type": "stream",
     "text": [
      "Web Activity dataset after cleaning:\n"
     ]
    },
    {
     "output_type": "display_data",
     "data": {
      "text/html": [
       "<style scoped>\n",
       "  .table-result-container {\n",
       "    max-height: 300px;\n",
       "    overflow: auto;\n",
       "  }\n",
       "  table, th, td {\n",
       "    border: 1px solid black;\n",
       "    border-collapse: collapse;\n",
       "  }\n",
       "  th, td {\n",
       "    padding: 5px;\n",
       "  }\n",
       "  th {\n",
       "    text-align: left;\n",
       "  }\n",
       "</style><div class='table-result-container'><table class='table-result'><thead style='background-color: white'><tr><th>null_count</th></tr></thead><tbody><tr><td>0</td></tr><tr><td>0</td></tr><tr><td>0</td></tr><tr><td>0</td></tr><tr><td>0</td></tr></tbody></table></div>"
      ]
     },
     "metadata": {
      "application/vnd.databricks.v1+output": {
       "addedWidgets": {},
       "aggData": [],
       "aggError": "",
       "aggOverflow": false,
       "aggSchema": [],
       "aggSeriesLimitReached": false,
       "aggType": "",
       "arguments": {},
       "columnCustomDisplayInfos": {},
       "data": [
        [
         0
        ],
        [
         0
        ],
        [
         0
        ],
        [
         0
        ],
        [
         0
        ]
       ],
       "datasetInfos": [],
       "dbfsResultPath": null,
       "isJsonSchema": true,
       "metadata": {},
       "overflow": false,
       "plotOptions": {
        "customPlotOptions": {},
        "displayType": "table",
        "pivotAggregation": null,
        "pivotColumns": null,
        "xColumns": null,
        "yColumns": null
       },
       "removedWidgets": [],
       "schema": [
        {
         "metadata": "{}",
         "name": "null_count",
         "type": "\"long\""
        }
       ],
       "type": "table"
      }
     },
     "output_type": "display_data"
    },
    {
     "output_type": "stream",
     "name": "stdout",
     "output_type": "stream",
     "text": [
      "root\n |-- session_id: string (nullable = true)\n |-- customer_id: string (nullable = true)\n |-- activity_type: string (nullable = false)\n |-- product_id: string (nullable = false)\n |-- timestamp: date (nullable = true)\n\n"
     ]
    }
   ],
   "source": [
    "# Ingesting Web Activity Dataset Tickets Dataset\n",
    "web_df = spark.table(\"cip.web_activity\")\n",
    "\n",
    "# Audit Web Activity dataset\n",
    "total_rows, distinct_ids = get_row_counts(web_df, \"session_id\")\n",
    "print(f\"Web Activity → Total Rows: {total_rows}, Distinct IDs: {distinct_ids}\")\n",
    "\n",
    "display(get_null_counts(web_df))\n",
    "display(get_duplicate_rows(web_df, \"session_id\"))\n",
    "display(get_date_summary(web_df, \"timestamp\"))\n",
    "\n",
    "# Clean Web Activity dataset\n",
    "web_clean_df = web_df.transform(lambda df: drop_duplicates(df, \"session_id\")) \\\n",
    "                     .transform(lambda df: fill_missing_values(df, {\n",
    "                         \"activity_type\": \"Unknown\",\n",
    "                         \"product_id\": \"Unknown\"\n",
    "                     })) \\\n",
    "                     .transform(lambda df: standardize_strings(df, [\"activity_type\"])) \\\n",
    "                     .transform(lambda df: cast_to_date(df, [\"timestamp\"]))\n",
    "\n",
    "# Final audit after cleaning\n",
    "print(\"Web Activity dataset after cleaning:\")\n",
    "display(get_null_counts(web_clean_df))\n",
    "web_clean_df.printSchema()\n"
   ]
  },
  {
   "cell_type": "code",
   "execution_count": 0,
   "metadata": {
    "application/vnd.databricks.v1+cell": {
     "cellMetadata": {
      "byteLimit": 2048000,
      "rowLimit": 10000
     },
     "inputWidgets": {},
     "nuid": "1c0e9b95-38fa-4d92-b1fa-b9287f5fc1f3",
     "showTitle": false,
     "tableResultSettingsMap": {},
     "title": ""
    }
   },
   "outputs": [
    {
     "output_type": "display_data",
     "data": {
      "text/html": [
       "<style scoped>\n",
       "  .table-result-container {\n",
       "    max-height: 300px;\n",
       "    overflow: auto;\n",
       "  }\n",
       "  table, th, td {\n",
       "    border: 1px solid black;\n",
       "    border-collapse: collapse;\n",
       "  }\n",
       "  th, td {\n",
       "    padding: 5px;\n",
       "  }\n",
       "  th {\n",
       "    text-align: left;\n",
       "  }\n",
       "</style><div class='table-result-container'><table class='table-result'><thead style='background-color: white'><tr><th>session_id</th><th>customer_id</th><th>activity_type</th><th>product_id</th><th>timestamp</th></tr></thead><tbody><tr><td>0</td><td>0</td><td>0</td><td>9022</td><td>0</td></tr></tbody></table></div>"
      ]
     },
     "metadata": {
      "application/vnd.databricks.v1+output": {
       "addedWidgets": {},
       "aggData": [],
       "aggError": "",
       "aggOverflow": false,
       "aggSchema": [],
       "aggSeriesLimitReached": false,
       "aggType": "",
       "arguments": {},
       "columnCustomDisplayInfos": {},
       "data": [
        [
         0,
         0,
         0,
         9022,
         0
        ]
       ],
       "datasetInfos": [],
       "dbfsResultPath": null,
       "isJsonSchema": true,
       "metadata": {},
       "overflow": false,
       "plotOptions": {
        "customPlotOptions": {},
        "displayType": "table",
        "pivotAggregation": null,
        "pivotColumns": null,
        "xColumns": null,
        "yColumns": null
       },
       "removedWidgets": [],
       "schema": [
        {
         "metadata": "{}",
         "name": "session_id",
         "type": "\"long\""
        },
        {
         "metadata": "{}",
         "name": "customer_id",
         "type": "\"long\""
        },
        {
         "metadata": "{}",
         "name": "activity_type",
         "type": "\"long\""
        },
        {
         "metadata": "{}",
         "name": "product_id",
         "type": "\"long\""
        },
        {
         "metadata": "{}",
         "name": "timestamp",
         "type": "\"long\""
        }
       ],
       "type": "table"
      }
     },
     "output_type": "display_data"
    }
   ],
   "source": [
    "# null count with column names preserved\n",
    "null_counts_named = web_df.select(\n",
    "    [F.count(F.when(F.col(c).isNull(), 1)).alias(c) for c in web_df.columns]\n",
    ")\n",
    "display(null_counts_named)\n"
   ]
  },
  {
   "cell_type": "code",
   "execution_count": 0,
   "metadata": {
    "application/vnd.databricks.v1+cell": {
     "cellMetadata": {
      "byteLimit": 2048000,
      "rowLimit": 10000
     },
     "inputWidgets": {},
     "nuid": "20efa5c3-279d-401e-98ff-8179d0f1046d",
     "showTitle": false,
     "tableResultSettingsMap": {},
     "title": ""
    }
   },
   "outputs": [
    {
     "output_type": "stream",
     "name": "stdout",
     "output_type": "stream",
     "text": [
      "Web Activity dataset after cleaning:\n"
     ]
    },
    {
     "output_type": "display_data",
     "data": {
      "text/html": [
       "<style scoped>\n",
       "  .table-result-container {\n",
       "    max-height: 300px;\n",
       "    overflow: auto;\n",
       "  }\n",
       "  table, th, td {\n",
       "    border: 1px solid black;\n",
       "    border-collapse: collapse;\n",
       "  }\n",
       "  th, td {\n",
       "    padding: 5px;\n",
       "  }\n",
       "  th {\n",
       "    text-align: left;\n",
       "  }\n",
       "</style><div class='table-result-container'><table class='table-result'><thead style='background-color: white'><tr><th>null_count</th></tr></thead><tbody><tr><td>0</td></tr><tr><td>0</td></tr><tr><td>0</td></tr><tr><td>0</td></tr><tr><td>0</td></tr></tbody></table></div>"
      ]
     },
     "metadata": {
      "application/vnd.databricks.v1+output": {
       "addedWidgets": {},
       "aggData": [],
       "aggError": "",
       "aggOverflow": false,
       "aggSchema": [],
       "aggSeriesLimitReached": false,
       "aggType": "",
       "arguments": {},
       "columnCustomDisplayInfos": {},
       "data": [
        [
         0
        ],
        [
         0
        ],
        [
         0
        ],
        [
         0
        ],
        [
         0
        ]
       ],
       "datasetInfos": [],
       "dbfsResultPath": null,
       "isJsonSchema": true,
       "metadata": {},
       "overflow": false,
       "plotOptions": {
        "customPlotOptions": {},
        "displayType": "table",
        "pivotAggregation": null,
        "pivotColumns": null,
        "xColumns": null,
        "yColumns": null
       },
       "removedWidgets": [],
       "schema": [
        {
         "metadata": "{}",
         "name": "null_count",
         "type": "\"long\""
        }
       ],
       "type": "table"
      }
     },
     "output_type": "display_data"
    },
    {
     "output_type": "stream",
     "name": "stdout",
     "output_type": "stream",
     "text": [
      "root\n |-- session_id: string (nullable = true)\n |-- customer_id: string (nullable = true)\n |-- activity_type: string (nullable = true)\n |-- product_id: string (nullable = false)\n |-- timestamp: date (nullable = true)\n\n"
     ]
    }
   ],
   "source": [
    "# Handling Null in Web_df\n",
    "web_clean_df = web_df.transform(lambda df: drop_duplicates(df, \"session_id\")) \\\n",
    "                     .transform(lambda df: fill_missing_values(df, {\n",
    "                         \"product_id\": \"Unknown_Product\"\n",
    "                     })) \\\n",
    "                     .transform(lambda df: standardize_strings(df, [\"activity_type\"])) \\\n",
    "                     .transform(lambda df: cast_to_date(df, [\"timestamp\"]))\n",
    "\n",
    "# Final audit after cleaning\n",
    "print(\"Web Activity dataset after cleaning:\")\n",
    "display(get_null_counts(web_clean_df))\n",
    "web_clean_df.printSchema()"
   ]
  },
  {
   "cell_type": "code",
   "execution_count": 0,
   "metadata": {
    "application/vnd.databricks.v1+cell": {
     "cellMetadata": {
      "byteLimit": 2048000,
      "rowLimit": 10000
     },
     "inputWidgets": {},
     "nuid": "c44fbf9c-e30c-4c10-978c-9a289148c3a9",
     "showTitle": false,
     "tableResultSettingsMap": {},
     "title": ""
    }
   },
   "outputs": [],
   "source": [
    "# Saving all the cleaned files \n",
    "customers_clean_df.toPandas().to_csv(\"customers_clean.csv\", index=False)\n",
    "products_clean_df.toPandas().to_csv(\"products_clean.csv\", index=False)\n",
    "transactions_clean_df.toPandas().to_csv(\"transactions_clean.csv\", index=False)\n",
    "returns_clean_df.toPandas().to_csv(\"returns_clean.csv\", index=False)\n",
    "support_clean_df.toPandas().to_csv(\"support_clean.csv\", index=False)\n",
    "web_clean_df.toPandas().to_csv(\"web_clean.csv\", index=False)\n"
   ]
  }
 ],
 "metadata": {
  "application/vnd.databricks.v1+notebook": {
   "computePreferences": null,
   "dashboards": [],
   "environmentMetadata": {
    "base_environment": "",
    "environment_version": "3"
   },
   "inputWidgetPreferences": null,
   "language": "python",
   "notebookMetadata": {
    "pythonIndentUnit": 4
   },
   "notebookName": "CIP_01_Ingestion_Customers",
   "widgets": {}
  },
  "language_info": {
   "name": "python"
  }
 },
 "nbformat": 4,
 "nbformat_minor": 0
}