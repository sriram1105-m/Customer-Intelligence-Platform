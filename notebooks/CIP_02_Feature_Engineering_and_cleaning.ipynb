{
 "cells": [
  {
   "cell_type": "code",
   "execution_count": 0,
   "metadata": {
    "application/vnd.databricks.v1+cell": {
     "cellMetadata": {
      "byteLimit": 2048000,
      "rowLimit": 10000
     },
     "inputWidgets": {},
     "nuid": "04e4c985-161b-470a-bd43-d36d85824088",
     "showTitle": false,
     "tableResultSettingsMap": {},
     "title": ""
    }
   },
   "outputs": [
    {
     "output_type": "stream",
     "name": "stdout",
     "output_type": "stream",
     "text": [
      "\nRow Counts for all Datasets: \ncustomers_clean_df : 10000 rows\nproducts_clean_df : 500 rows\ntransactions_clean_df : 50000 rows\nreturns_clean_df : 1500 rows\nsupport_clean_df : 10000 rows\nweb_clean_df : 30000 rows\n"
     ]
    }
   ],
   "source": [
    "# Loading all the cleaned files (For Demo purpose I have used GitHub to load the datasets)\n",
    "# Base URL\n",
    "base_url = \"https://raw.githubusercontent.com/sriram1105-m/Customer-Intelligence-Platform/main/data/\"\n",
    "\n",
    "# Dictionary of dataset filenames and variables\n",
    "datasets = {\n",
    "    \"customers_clean.csv\" : \"customers_clean_df\",\n",
    "    \"products_clean.csv\" : \"products_clean_df\",\n",
    "    \"transactions_clean.csv\" : \"transactions_clean_df\",\n",
    "    \"returns_clean.csv\" : \"returns_clean_df\",\n",
    "    \"support_clean.csv\" : \"support_clean_df\",\n",
    "    \"web_clean.csv\" : \"web_clean_df\"\n",
    "}\n",
    "\n",
    "# Load using Pandas and convert to Spark Dataframe\n",
    "for file_name, var_name in datasets.items():\n",
    "    pdf = pd.read_csv(base_url + file_name)\n",
    "    sdf = spark.createDataFrame(pdf)\n",
    "    globals()[var_name] = sdf\n",
    "\n",
    "# Quick Row Count check for all datasets\n",
    "print(\"\\nRow Counts for all Datasets: \")\n",
    "for var_name in datasets.values():\n",
    "    df = globals()[var_name]\n",
    "    print(f\"{var_name} : {df.count()} rows\")"
   ]
  },
  {
   "cell_type": "markdown",
   "metadata": {
    "application/vnd.databricks.v1+cell": {
     "cellMetadata": {},
     "inputWidgets": {},
     "nuid": "f8b6ea8a-954d-4db5-b594-b9f44c31fc7d",
     "showTitle": false,
     "tableResultSettingsMap": {},
     "title": ""
    }
   },
   "source": [
    "Transactions Dataset"
   ]
  },
  {
   "cell_type": "code",
   "execution_count": 0,
   "metadata": {
    "application/vnd.databricks.v1+cell": {
     "cellMetadata": {
      "byteLimit": 2048000,
      "rowLimit": 10000
     },
     "inputWidgets": {},
     "nuid": "083de702-10d1-4108-9c31-e187430c942f",
     "showTitle": false,
     "tableResultSettingsMap": {},
     "title": ""
    }
   },
   "outputs": [
    {
     "output_type": "stream",
     "name": "stdout",
     "output_type": "stream",
     "text": [
      "Latest Transaction Date:  2025-09-11\n"
     ]
    },
    {
     "output_type": "display_data",
     "data": {
      "text/html": [
       "<style scoped>\n",
       "  .table-result-container {\n",
       "    max-height: 300px;\n",
       "    overflow: auto;\n",
       "  }\n",
       "  table, th, td {\n",
       "    border: 1px solid black;\n",
       "    border-collapse: collapse;\n",
       "  }\n",
       "  th, td {\n",
       "    padding: 5px;\n",
       "  }\n",
       "  th {\n",
       "    text-align: left;\n",
       "  }\n",
       "</style><div class='table-result-container'><table class='table-result'><thead style='background-color: white'><tr><th>customer_id</th><th>recency_days</th><th>frequency</th><th>monetary_value</th></tr></thead><tbody><tr><td>d8a580b8-4c19-46ba-afaa-e07ac2666d3f</td><td>69</td><td>2</td><td>1451.28</td></tr><tr><td>59162ae4-44e3-49e2-9c52-3e897c8292b8</td><td>97</td><td>11</td><td>6017.07</td></tr><tr><td>c866be64-36d4-45b1-864a-2b1165ae6198</td><td>94</td><td>6</td><td>3343.7299999999996</td></tr><tr><td>6acb9ae8-6732-49a0-ad77-f4720e6a9efa</td><td>351</td><td>5</td><td>1663.5</td></tr><tr><td>557c1ec2-d512-4500-820f-55e28b1dc300</td><td>123</td><td>6</td><td>2427.1400000000003</td></tr><tr><td>96fd27b9-3f67-4748-a90c-281e7eaefc1f</td><td>40</td><td>1</td><td>249.87</td></tr><tr><td>5b452ab5-3f2a-4ac5-bd2e-23812c01b811</td><td>200</td><td>4</td><td>2821.76</td></tr><tr><td>2130fc55-edc4-4272-b77d-e4c3c35cccb7</td><td>248</td><td>4</td><td>1756.49</td></tr><tr><td>899ba871-9497-4f48-beae-6ff5fd1155fa</td><td>176</td><td>4</td><td>3046.5</td></tr><tr><td>bc52aab0-71e3-4315-ad57-3c6a4c41c211</td><td>58</td><td>6</td><td>4160.42</td></tr></tbody></table></div>"
      ]
     },
     "metadata": {
      "application/vnd.databricks.v1+output": {
       "addedWidgets": {},
       "aggData": [],
       "aggError": "",
       "aggOverflow": false,
       "aggSchema": [],
       "aggSeriesLimitReached": false,
       "aggType": "",
       "arguments": {},
       "columnCustomDisplayInfos": {},
       "data": [
        [
         "d8a580b8-4c19-46ba-afaa-e07ac2666d3f",
         69,
         2,
         1451.28
        ],
        [
         "59162ae4-44e3-49e2-9c52-3e897c8292b8",
         97,
         11,
         6017.07
        ],
        [
         "c866be64-36d4-45b1-864a-2b1165ae6198",
         94,
         6,
         3343.7299999999996
        ],
        [
         "6acb9ae8-6732-49a0-ad77-f4720e6a9efa",
         351,
         5,
         1663.5
        ],
        [
         "557c1ec2-d512-4500-820f-55e28b1dc300",
         123,
         6,
         2427.1400000000003
        ],
        [
         "96fd27b9-3f67-4748-a90c-281e7eaefc1f",
         40,
         1,
         249.87
        ],
        [
         "5b452ab5-3f2a-4ac5-bd2e-23812c01b811",
         200,
         4,
         2821.76
        ],
        [
         "2130fc55-edc4-4272-b77d-e4c3c35cccb7",
         248,
         4,
         1756.49
        ],
        [
         "899ba871-9497-4f48-beae-6ff5fd1155fa",
         176,
         4,
         3046.5
        ],
        [
         "bc52aab0-71e3-4315-ad57-3c6a4c41c211",
         58,
         6,
         4160.42
        ]
       ],
       "datasetInfos": [],
       "dbfsResultPath": null,
       "isJsonSchema": true,
       "metadata": {},
       "overflow": false,
       "plotOptions": {
        "customPlotOptions": {},
        "displayType": "table",
        "pivotAggregation": null,
        "pivotColumns": null,
        "xColumns": null,
        "yColumns": null
       },
       "removedWidgets": [],
       "schema": [
        {
         "metadata": "{}",
         "name": "customer_id",
         "type": "\"string\""
        },
        {
         "metadata": "{}",
         "name": "recency_days",
         "type": "\"integer\""
        },
        {
         "metadata": "{}",
         "name": "frequency",
         "type": "\"long\""
        },
        {
         "metadata": "{}",
         "name": "monetary_value",
         "type": "\"double\""
        }
       ],
       "type": "table"
      }
     },
     "output_type": "display_data"
    }
   ],
   "source": [
    "# RFM (Recency, Frequency, Monetary) Metrics for Transactions Dataset\n",
    "\n",
    "from pyspark.sql import functions as F\n",
    "\n",
    "# Step 1: Find the latest transaction date in the dataset\n",
    "max_txn_date = transactions_clean_df.agg(F.max(\"transaction_date\")).collect()[0][0]\n",
    "print(\"Latest Transaction Date: \", max_txn_date)\n",
    "\n",
    "# Step 2: Recency --> Days since last purchase per customer\n",
    "recency_df = transactions_clean_df.groupBy(\"customer_id\") \\\n",
    "                                  .agg(F.datediff(F.lit(max_txn_date), \n",
    "                                                  F.max(\"transaction_date\")).alias(\"recency_days\"))\n",
    "                                  \n",
    "# Step 3: Frequency --> Number of transactions per customer\n",
    "frequency_df = transactions_clean_df.groupBy(\"customer_id\") \\\n",
    "                                    .agg(F.count(\"transaction_id\").alias(\"frequency\"))\n",
    "\n",
    "# Step 4: Monetary --> Total spend per customer\n",
    "monetary_df = transactions_clean_df.groupBy(\"customer_id\") \\\n",
    "                                   .agg(F.sum(\"amount\").alias(\"monetary_value\"))\n",
    "\n",
    "# Step 5: Combine all RFM Metrics into one table\n",
    "rfm_df = recency_df.join(frequency_df, on = \"customer_id\", how = \"left\") \\\n",
    "                   .join(monetary_df, on = \"customer_id\", how = \"left\")\n",
    "\n",
    "display(rfm_df.limit(10))"
   ]
  },
  {
   "cell_type": "code",
   "execution_count": 0,
   "metadata": {
    "application/vnd.databricks.v1+cell": {
     "cellMetadata": {
      "byteLimit": 2048000,
      "rowLimit": 10000
     },
     "inputWidgets": {},
     "nuid": "1b6bd39d-08de-4549-afb0-5a7b22608bcc",
     "showTitle": false,
     "tableResultSettingsMap": {},
     "title": ""
    }
   },
   "outputs": [
    {
     "output_type": "stream",
     "name": "stdout",
     "output_type": "stream",
     "text": [
      "+-----------+------------+---------+--------------+\n|customer_id|recency_days|frequency|monetary_value|\n+-----------+------------+---------+--------------+\n|          0|           0|        0|             0|\n+-----------+------------+---------+--------------+\n\n+-------+------------------+------------------+------------------+\n|summary|      recency_days|         frequency|    monetary_value|\n+-------+------------------+------------------+------------------+\n|  count|              9941|              9941|              9941|\n|   mean|141.62458505180567| 5.029675082989639|2728.3680293733046|\n| stddev|132.33072591529515|2.1953454935540835|1590.3342814247806|\n|    min|                 0|                 1|               8.2|\n|    max|               726|                17|10909.650000000001|\n+-------+------------------+------------------+------------------+\n\n"
     ]
    }
   ],
   "source": [
    "# Validating the RFM Metrics\n",
    "# Check for Null values in RFM metrics\n",
    "rfm_df.select([F.count(F.when(F.col(c).isNull(), c)).alias(c) for c in rfm_df.columns]).show()\n",
    "\n",
    "# Quick summary statistics for numeric columns\n",
    "rfm_df.describe([\"recency_days\", \"frequency\", \"monetary_value\"]).show()"
   ]
  },
  {
   "cell_type": "code",
   "execution_count": 0,
   "metadata": {
    "application/vnd.databricks.v1+cell": {
     "cellMetadata": {
      "byteLimit": 2048000,
      "rowLimit": 10000
     },
     "inputWidgets": {},
     "nuid": "60d07df1-c299-4cfd-9efc-dc8dc10fb8a9",
     "showTitle": false,
     "tableResultSettingsMap": {},
     "title": ""
    }
   },
   "outputs": [
    {
     "output_type": "display_data",
     "data": {
      "text/html": [
       "<style scoped>\n",
       "  .table-result-container {\n",
       "    max-height: 300px;\n",
       "    overflow: auto;\n",
       "  }\n",
       "  table, th, td {\n",
       "    border: 1px solid black;\n",
       "    border-collapse: collapse;\n",
       "  }\n",
       "  th, td {\n",
       "    padding: 5px;\n",
       "  }\n",
       "  th {\n",
       "    text-align: left;\n",
       "  }\n",
       "</style><div class='table-result-container'><table class='table-result'><thead style='background-color: white'><tr><th>customer_id</th><th>recency_days</th><th>frequency</th><th>monetary_value</th><th>avg_order_value</th><th>payment_method</th></tr></thead><tbody><tr><td>d8a580b8-4c19-46ba-afaa-e07ac2666d3f</td><td>69</td><td>2</td><td>1451.28</td><td>725.64</td><td>Credit Card</td></tr><tr><td>59162ae4-44e3-49e2-9c52-3e897c8292b8</td><td>97</td><td>11</td><td>6017.07</td><td>547.01</td><td>Credit Card</td></tr><tr><td>c866be64-36d4-45b1-864a-2b1165ae6198</td><td>94</td><td>6</td><td>3343.7299999999996</td><td>557.29</td><td>Wallet</td></tr><tr><td>6acb9ae8-6732-49a0-ad77-f4720e6a9efa</td><td>351</td><td>5</td><td>1663.5</td><td>332.7</td><td>Wallet</td></tr><tr><td>557c1ec2-d512-4500-820f-55e28b1dc300</td><td>123</td><td>6</td><td>2427.1400000000003</td><td>404.52</td><td>Credit Card</td></tr><tr><td>96fd27b9-3f67-4748-a90c-281e7eaefc1f</td><td>40</td><td>1</td><td>249.87</td><td>249.87</td><td>UPI</td></tr><tr><td>5b452ab5-3f2a-4ac5-bd2e-23812c01b811</td><td>200</td><td>4</td><td>2821.76</td><td>705.44</td><td>Credit Card</td></tr><tr><td>2130fc55-edc4-4272-b77d-e4c3c35cccb7</td><td>248</td><td>4</td><td>1756.49</td><td>439.12</td><td>Wallet</td></tr><tr><td>899ba871-9497-4f48-beae-6ff5fd1155fa</td><td>176</td><td>4</td><td>3046.5</td><td>761.63</td><td>UPI</td></tr><tr><td>bc52aab0-71e3-4315-ad57-3c6a4c41c211</td><td>58</td><td>6</td><td>4160.42</td><td>693.4</td><td>Wallet</td></tr></tbody></table></div>"
      ]
     },
     "metadata": {
      "application/vnd.databricks.v1+output": {
       "addedWidgets": {},
       "aggData": [],
       "aggError": "",
       "aggOverflow": false,
       "aggSchema": [],
       "aggSeriesLimitReached": false,
       "aggType": "",
       "arguments": {},
       "columnCustomDisplayInfos": {},
       "data": [
        [
         "d8a580b8-4c19-46ba-afaa-e07ac2666d3f",
         69,
         2,
         1451.28,
         725.64,
         "Credit Card"
        ],
        [
         "59162ae4-44e3-49e2-9c52-3e897c8292b8",
         97,
         11,
         6017.07,
         547.01,
         "Credit Card"
        ],
        [
         "c866be64-36d4-45b1-864a-2b1165ae6198",
         94,
         6,
         3343.7299999999996,
         557.29,
         "Wallet"
        ],
        [
         "6acb9ae8-6732-49a0-ad77-f4720e6a9efa",
         351,
         5,
         1663.5,
         332.7,
         "Wallet"
        ],
        [
         "557c1ec2-d512-4500-820f-55e28b1dc300",
         123,
         6,
         2427.1400000000003,
         404.52,
         "Credit Card"
        ],
        [
         "96fd27b9-3f67-4748-a90c-281e7eaefc1f",
         40,
         1,
         249.87,
         249.87,
         "UPI"
        ],
        [
         "5b452ab5-3f2a-4ac5-bd2e-23812c01b811",
         200,
         4,
         2821.76,
         705.44,
         "Credit Card"
        ],
        [
         "2130fc55-edc4-4272-b77d-e4c3c35cccb7",
         248,
         4,
         1756.49,
         439.12,
         "Wallet"
        ],
        [
         "899ba871-9497-4f48-beae-6ff5fd1155fa",
         176,
         4,
         3046.5,
         761.63,
         "UPI"
        ],
        [
         "bc52aab0-71e3-4315-ad57-3c6a4c41c211",
         58,
         6,
         4160.42,
         693.4,
         "Wallet"
        ]
       ],
       "datasetInfos": [],
       "dbfsResultPath": null,
       "isJsonSchema": true,
       "metadata": {},
       "overflow": false,
       "plotOptions": {
        "customPlotOptions": {},
        "displayType": "table",
        "pivotAggregation": null,
        "pivotColumns": null,
        "xColumns": null,
        "yColumns": null
       },
       "removedWidgets": [],
       "schema": [
        {
         "metadata": "{}",
         "name": "customer_id",
         "type": "\"string\""
        },
        {
         "metadata": "{}",
         "name": "recency_days",
         "type": "\"integer\""
        },
        {
         "metadata": "{}",
         "name": "frequency",
         "type": "\"long\""
        },
        {
         "metadata": "{}",
         "name": "monetary_value",
         "type": "\"double\""
        },
        {
         "metadata": "{}",
         "name": "avg_order_value",
         "type": "\"double\""
        },
        {
         "metadata": "{}",
         "name": "payment_method",
         "type": "\"string\""
        }
       ],
       "type": "table"
      }
     },
     "output_type": "display_data"
    }
   ],
   "source": [
    "# Adding 2 more KPIs to Transaction Dataset\n",
    "# 1. Average Order Value (AOV)\n",
    "rfm_df = rfm_df.withColumn(\"avg_order_value\", \n",
    "                           F.round(F.col(\"monetary_value\") / F.col(\"frequency\"), 2))\n",
    "\n",
    "# 2. Preferred Payment Method (Most used Payment method per customer)\n",
    "payment_method_df = transactions_clean_df.groupBy(\"customer_id\", \"payment_method\") \\\n",
    "                                         .count() \\\n",
    "                                         .withColumnRenamed(\"count\", \"payment_count\")\n",
    "\n",
    "# Get the preferred method --> Max Count per customer\n",
    "from pyspark.sql.window import Window\n",
    "\n",
    "window_spec = Window.partitionBy(\"customer_id\").orderBy(F.col(\"payment_count\").desc())\n",
    "preferred_payment_df = payment_method_df.withColumn(\"rank\", F.rank().over(window_spec)) \\\n",
    "                                        .filter(F.col(\"rank\") == 1) \\\n",
    "                                        .drop(\"rank\", \"payment_count\")\n",
    "\n",
    "# Join with RFM Table\n",
    "rfm_df = rfm_df.join(preferred_payment_df, on = \"customer_id\", how = \"left\")\n",
    "\n",
    "display(rfm_df.limit(10))\n",
    "                                          "
   ]
  },
  {
   "cell_type": "markdown",
   "metadata": {
    "application/vnd.databricks.v1+cell": {
     "cellMetadata": {},
     "inputWidgets": {},
     "nuid": "86feaa38-b6c0-4f48-a6d6-9b3313349540",
     "showTitle": false,
     "tableResultSettingsMap": {},
     "title": ""
    }
   },
   "source": [
    "Returns KPIs"
   ]
  },
  {
   "cell_type": "code",
   "execution_count": 0,
   "metadata": {
    "application/vnd.databricks.v1+cell": {
     "cellMetadata": {
      "byteLimit": 2048000,
      "rowLimit": 10000
     },
     "inputWidgets": {},
     "nuid": "e7455285-9947-43b9-9036-7d7422de9614",
     "showTitle": false,
     "tableResultSettingsMap": {},
     "title": ""
    }
   },
   "outputs": [
    {
     "output_type": "display_data",
     "data": {
      "text/html": [
       "<style scoped>\n",
       "  .table-result-container {\n",
       "    max-height: 300px;\n",
       "    overflow: auto;\n",
       "  }\n",
       "  table, th, td {\n",
       "    border: 1px solid black;\n",
       "    border-collapse: collapse;\n",
       "  }\n",
       "  th, td {\n",
       "    padding: 5px;\n",
       "  }\n",
       "  th {\n",
       "    text-align: left;\n",
       "  }\n",
       "</style><div class='table-result-container'><table class='table-result'><thead style='background-color: white'><tr><th>customer_id</th><th>recency_days</th><th>frequency</th><th>monetary_value</th><th>avg_order_value</th><th>payment_method</th><th>total_returns</th><th>return_rate</th></tr></thead><tbody><tr><td>d8a580b8-4c19-46ba-afaa-e07ac2666d3f</td><td>69</td><td>2</td><td>1451.28</td><td>725.64</td><td>Credit Card</td><td>0</td><td>0.0</td></tr><tr><td>59162ae4-44e3-49e2-9c52-3e897c8292b8</td><td>97</td><td>11</td><td>6017.07</td><td>547.01</td><td>Credit Card</td><td>0</td><td>0.0</td></tr><tr><td>c866be64-36d4-45b1-864a-2b1165ae6198</td><td>94</td><td>6</td><td>3343.7299999999996</td><td>557.29</td><td>Wallet</td><td>0</td><td>0.0</td></tr><tr><td>6acb9ae8-6732-49a0-ad77-f4720e6a9efa</td><td>351</td><td>5</td><td>1663.5</td><td>332.7</td><td>Wallet</td><td>0</td><td>0.0</td></tr><tr><td>557c1ec2-d512-4500-820f-55e28b1dc300</td><td>123</td><td>6</td><td>2427.1400000000003</td><td>404.52</td><td>Credit Card</td><td>0</td><td>0.0</td></tr><tr><td>96fd27b9-3f67-4748-a90c-281e7eaefc1f</td><td>40</td><td>1</td><td>249.87</td><td>249.87</td><td>UPI</td><td>0</td><td>0.0</td></tr><tr><td>5b452ab5-3f2a-4ac5-bd2e-23812c01b811</td><td>200</td><td>4</td><td>2821.76</td><td>705.44</td><td>Credit Card</td><td>1</td><td>0.25</td></tr><tr><td>2130fc55-edc4-4272-b77d-e4c3c35cccb7</td><td>248</td><td>4</td><td>1756.49</td><td>439.12</td><td>Wallet</td><td>0</td><td>0.0</td></tr><tr><td>899ba871-9497-4f48-beae-6ff5fd1155fa</td><td>176</td><td>4</td><td>3046.5</td><td>761.63</td><td>UPI</td><td>0</td><td>0.0</td></tr><tr><td>bc52aab0-71e3-4315-ad57-3c6a4c41c211</td><td>58</td><td>6</td><td>4160.42</td><td>693.4</td><td>Wallet</td><td>0</td><td>0.0</td></tr></tbody></table></div>"
      ]
     },
     "metadata": {
      "application/vnd.databricks.v1+output": {
       "addedWidgets": {},
       "aggData": [],
       "aggError": "",
       "aggOverflow": false,
       "aggSchema": [],
       "aggSeriesLimitReached": false,
       "aggType": "",
       "arguments": {},
       "columnCustomDisplayInfos": {},
       "data": [
        [
         "d8a580b8-4c19-46ba-afaa-e07ac2666d3f",
         69,
         2,
         1451.28,
         725.64,
         "Credit Card",
         0,
         0.0
        ],
        [
         "59162ae4-44e3-49e2-9c52-3e897c8292b8",
         97,
         11,
         6017.07,
         547.01,
         "Credit Card",
         0,
         0.0
        ],
        [
         "c866be64-36d4-45b1-864a-2b1165ae6198",
         94,
         6,
         3343.7299999999996,
         557.29,
         "Wallet",
         0,
         0.0
        ],
        [
         "6acb9ae8-6732-49a0-ad77-f4720e6a9efa",
         351,
         5,
         1663.5,
         332.7,
         "Wallet",
         0,
         0.0
        ],
        [
         "557c1ec2-d512-4500-820f-55e28b1dc300",
         123,
         6,
         2427.1400000000003,
         404.52,
         "Credit Card",
         0,
         0.0
        ],
        [
         "96fd27b9-3f67-4748-a90c-281e7eaefc1f",
         40,
         1,
         249.87,
         249.87,
         "UPI",
         0,
         0.0
        ],
        [
         "5b452ab5-3f2a-4ac5-bd2e-23812c01b811",
         200,
         4,
         2821.76,
         705.44,
         "Credit Card",
         1,
         0.25
        ],
        [
         "2130fc55-edc4-4272-b77d-e4c3c35cccb7",
         248,
         4,
         1756.49,
         439.12,
         "Wallet",
         0,
         0.0
        ],
        [
         "899ba871-9497-4f48-beae-6ff5fd1155fa",
         176,
         4,
         3046.5,
         761.63,
         "UPI",
         0,
         0.0
        ],
        [
         "bc52aab0-71e3-4315-ad57-3c6a4c41c211",
         58,
         6,
         4160.42,
         693.4,
         "Wallet",
         0,
         0.0
        ]
       ],
       "datasetInfos": [],
       "dbfsResultPath": null,
       "isJsonSchema": true,
       "metadata": {},
       "overflow": false,
       "plotOptions": {
        "customPlotOptions": {},
        "displayType": "table",
        "pivotAggregation": null,
        "pivotColumns": null,
        "xColumns": null,
        "yColumns": null
       },
       "removedWidgets": [],
       "schema": [
        {
         "metadata": "{}",
         "name": "customer_id",
         "type": "\"string\""
        },
        {
         "metadata": "{}",
         "name": "recency_days",
         "type": "\"integer\""
        },
        {
         "metadata": "{}",
         "name": "frequency",
         "type": "\"long\""
        },
        {
         "metadata": "{}",
         "name": "monetary_value",
         "type": "\"double\""
        },
        {
         "metadata": "{}",
         "name": "avg_order_value",
         "type": "\"double\""
        },
        {
         "metadata": "{}",
         "name": "payment_method",
         "type": "\"string\""
        },
        {
         "metadata": "{}",
         "name": "total_returns",
         "type": "\"long\""
        },
        {
         "metadata": "{}",
         "name": "return_rate",
         "type": "\"double\""
        }
       ],
       "type": "table"
      }
     },
     "output_type": "display_data"
    }
   ],
   "source": [
    "from pyspark.sql import functions as F\n",
    "\n",
    "# Step 1: Total returns per customer\n",
    "returns_count_df = returns_clean_df.groupBy(\"customer_id\") \\\n",
    "                                   .agg(F.count(\"return_id\").alias(\"total_returns\"))\n",
    "\n",
    "# Step 2: Join returns with transactions count for return rate\n",
    "returns_rate_df = returns_count_df.join(rfm_df.select(\"customer_id\", \"frequency\"),\n",
    "                                        on = \"customer_id\",\n",
    "                                        how = \"left\"\n",
    "                                        ).withColumn(\n",
    "                                            \"return_rate\",\n",
    "                                            F.round(F.col(\"total_returns\") / F.col(\"frequency\"), 2)\n",
    "                                        )\n",
    "\n",
    "# Step 3: Join back to RFM Table\n",
    "rfm_df = rfm_df.join(returns_rate_df.select(\"customer_id\", \"total_returns\", \"return_rate\"),\n",
    "                                            on = \"customer_id\", how = \"left\")\n",
    "\n",
    "# Fill null return_rate with 0 for customers with no returns\n",
    "rfm_df = rfm_df.fillna({\"total_returns\" : 0, \"return_rate\" : 0})\n",
    "\n",
    "display(rfm_df.limit(10))"
   ]
  },
  {
   "cell_type": "markdown",
   "metadata": {
    "application/vnd.databricks.v1+cell": {
     "cellMetadata": {},
     "inputWidgets": {},
     "nuid": "3140ef9f-f0cc-40f5-90f6-867e6df17a46",
     "showTitle": false,
     "tableResultSettingsMap": {},
     "title": ""
    }
   },
   "source": [
    "Web Activity KPIs\n"
   ]
  },
  {
   "cell_type": "code",
   "execution_count": 0,
   "metadata": {
    "application/vnd.databricks.v1+cell": {
     "cellMetadata": {
      "byteLimit": 2048000,
      "rowLimit": 10000
     },
     "inputWidgets": {},
     "nuid": "00430710-f72d-403f-b7fc-0bc87a4eb42e",
     "showTitle": false,
     "tableResultSettingsMap": {},
     "title": ""
    }
   },
   "outputs": [
    {
     "output_type": "display_data",
     "data": {
      "text/html": [
       "<style scoped>\n",
       "  .table-result-container {\n",
       "    max-height: 300px;\n",
       "    overflow: auto;\n",
       "  }\n",
       "  table, th, td {\n",
       "    border: 1px solid black;\n",
       "    border-collapse: collapse;\n",
       "  }\n",
       "  th, td {\n",
       "    padding: 5px;\n",
       "  }\n",
       "  th {\n",
       "    text-align: left;\n",
       "  }\n",
       "</style><div class='table-result-container'><table class='table-result'><thead style='background-color: white'><tr><th>customer_id</th><th>recency_days</th><th>frequency</th><th>monetary_value</th><th>avg_order_value</th><th>payment_method</th><th>total_returns</th><th>return_rate</th><th>total_sessions</th><th>active_days</th><th>engagement_score</th></tr></thead><tbody><tr><td>d8a580b8-4c19-46ba-afaa-e07ac2666d3f</td><td>69</td><td>2</td><td>1451.28</td><td>725.64</td><td>Credit Card</td><td>0</td><td>0.0</td><td>5</td><td>5</td><td>0</td></tr><tr><td>59162ae4-44e3-49e2-9c52-3e897c8292b8</td><td>97</td><td>11</td><td>6017.07</td><td>547.01</td><td>Credit Card</td><td>0</td><td>0.0</td><td>1</td><td>1</td><td>0</td></tr><tr><td>c866be64-36d4-45b1-864a-2b1165ae6198</td><td>94</td><td>6</td><td>3343.7299999999996</td><td>557.29</td><td>Wallet</td><td>0</td><td>0.0</td><td>2</td><td>2</td><td>0</td></tr><tr><td>6acb9ae8-6732-49a0-ad77-f4720e6a9efa</td><td>351</td><td>5</td><td>1663.5</td><td>332.7</td><td>Wallet</td><td>0</td><td>0.0</td><td>3</td><td>3</td><td>0</td></tr><tr><td>557c1ec2-d512-4500-820f-55e28b1dc300</td><td>123</td><td>6</td><td>2427.1400000000003</td><td>404.52</td><td>Credit Card</td><td>0</td><td>0.0</td><td>2</td><td>2</td><td>0</td></tr><tr><td>96fd27b9-3f67-4748-a90c-281e7eaefc1f</td><td>40</td><td>1</td><td>249.87</td><td>249.87</td><td>UPI</td><td>0</td><td>0.0</td><td>3</td><td>3</td><td>0</td></tr><tr><td>5b452ab5-3f2a-4ac5-bd2e-23812c01b811</td><td>200</td><td>4</td><td>2821.76</td><td>705.44</td><td>Credit Card</td><td>1</td><td>0.25</td><td>2</td><td>2</td><td>0</td></tr><tr><td>2130fc55-edc4-4272-b77d-e4c3c35cccb7</td><td>248</td><td>4</td><td>1756.49</td><td>439.12</td><td>Wallet</td><td>0</td><td>0.0</td><td>0</td><td>0</td><td>0</td></tr><tr><td>899ba871-9497-4f48-beae-6ff5fd1155fa</td><td>176</td><td>4</td><td>3046.5</td><td>761.63</td><td>UPI</td><td>0</td><td>0.0</td><td>1</td><td>1</td><td>0</td></tr><tr><td>bc52aab0-71e3-4315-ad57-3c6a4c41c211</td><td>58</td><td>6</td><td>4160.42</td><td>693.4</td><td>Wallet</td><td>0</td><td>0.0</td><td>2</td><td>2</td><td>0</td></tr></tbody></table></div>"
      ]
     },
     "metadata": {
      "application/vnd.databricks.v1+output": {
       "addedWidgets": {},
       "aggData": [],
       "aggError": "",
       "aggOverflow": false,
       "aggSchema": [],
       "aggSeriesLimitReached": false,
       "aggType": "",
       "arguments": {},
       "columnCustomDisplayInfos": {},
       "data": [
        [
         "d8a580b8-4c19-46ba-afaa-e07ac2666d3f",
         69,
         2,
         1451.28,
         725.64,
         "Credit Card",
         0,
         0.0,
         5,
         5,
         0
        ],
        [
         "59162ae4-44e3-49e2-9c52-3e897c8292b8",
         97,
         11,
         6017.07,
         547.01,
         "Credit Card",
         0,
         0.0,
         1,
         1,
         0
        ],
        [
         "c866be64-36d4-45b1-864a-2b1165ae6198",
         94,
         6,
         3343.7299999999996,
         557.29,
         "Wallet",
         0,
         0.0,
         2,
         2,
         0
        ],
        [
         "6acb9ae8-6732-49a0-ad77-f4720e6a9efa",
         351,
         5,
         1663.5,
         332.7,
         "Wallet",
         0,
         0.0,
         3,
         3,
         0
        ],
        [
         "557c1ec2-d512-4500-820f-55e28b1dc300",
         123,
         6,
         2427.1400000000003,
         404.52,
         "Credit Card",
         0,
         0.0,
         2,
         2,
         0
        ],
        [
         "96fd27b9-3f67-4748-a90c-281e7eaefc1f",
         40,
         1,
         249.87,
         249.87,
         "UPI",
         0,
         0.0,
         3,
         3,
         0
        ],
        [
         "5b452ab5-3f2a-4ac5-bd2e-23812c01b811",
         200,
         4,
         2821.76,
         705.44,
         "Credit Card",
         1,
         0.25,
         2,
         2,
         0
        ],
        [
         "2130fc55-edc4-4272-b77d-e4c3c35cccb7",
         248,
         4,
         1756.49,
         439.12,
         "Wallet",
         0,
         0.0,
         0,
         0,
         0
        ],
        [
         "899ba871-9497-4f48-beae-6ff5fd1155fa",
         176,
         4,
         3046.5,
         761.63,
         "UPI",
         0,
         0.0,
         1,
         1,
         0
        ],
        [
         "bc52aab0-71e3-4315-ad57-3c6a4c41c211",
         58,
         6,
         4160.42,
         693.4,
         "Wallet",
         0,
         0.0,
         2,
         2,
         0
        ]
       ],
       "datasetInfos": [],
       "dbfsResultPath": null,
       "isJsonSchema": true,
       "metadata": {},
       "overflow": false,
       "plotOptions": {
        "customPlotOptions": {},
        "displayType": "table",
        "pivotAggregation": null,
        "pivotColumns": null,
        "xColumns": null,
        "yColumns": null
       },
       "removedWidgets": [],
       "schema": [
        {
         "metadata": "{}",
         "name": "customer_id",
         "type": "\"string\""
        },
        {
         "metadata": "{}",
         "name": "recency_days",
         "type": "\"integer\""
        },
        {
         "metadata": "{}",
         "name": "frequency",
         "type": "\"long\""
        },
        {
         "metadata": "{}",
         "name": "monetary_value",
         "type": "\"double\""
        },
        {
         "metadata": "{}",
         "name": "avg_order_value",
         "type": "\"double\""
        },
        {
         "metadata": "{}",
         "name": "payment_method",
         "type": "\"string\""
        },
        {
         "metadata": "{}",
         "name": "total_returns",
         "type": "\"long\""
        },
        {
         "metadata": "{}",
         "name": "return_rate",
         "type": "\"double\""
        },
        {
         "metadata": "{}",
         "name": "total_sessions",
         "type": "\"long\""
        },
        {
         "metadata": "{}",
         "name": "active_days",
         "type": "\"long\""
        },
        {
         "metadata": "{}",
         "name": "engagement_score",
         "type": "\"long\""
        }
       ],
       "type": "table"
      }
     },
     "output_type": "display_data"
    }
   ],
   "source": [
    "from pyspark.sql.functions import col, countDistinct, lit, sum as Fsum, when\n",
    "\n",
    "# Step 1: Calculate Total Web Sessions per customer\n",
    "web_sessions_df = web_clean_df.groupBy(\"customer_id\") \\\n",
    "                              .agg(countDistinct(\"session_id\").alias(\"total_sessions\"))\n",
    "\n",
    "# Step 2: Active days per customer\n",
    "web_days_df = web_clean_df.withColumn(\"activity_date\", F.to_date(\"timestamp\")) \\\n",
    "                          .groupBy(\"customer_id\") \\\n",
    "                          .agg(countDistinct(\"activity_date\").alias(\"active_days\"))\n",
    "\n",
    "# Step 3: Engagement Score (assign weights per activity_type)\n",
    "engagement_df = web_clean_df.withColumn(\n",
    "    \"activity_score\",\n",
    "    when(col(\"activity_type\") == \"view\", lit(1))\n",
    "    .when(col(\"activity_type\") == \"click\", lit(2))\n",
    "    .when(col(\"activity_type\") == \"cart\", lit(3))\n",
    "    .when(col(\"activity_type\") == \"purchase\", lit(4))\n",
    "    .otherwise(lit(0))\n",
    ").groupBy(\"customer_id\").agg(Fsum(\"activity_score\").alias(\"engagement_score\"))\n",
    "\n",
    "# Step 4: Join all Web KPIs\n",
    "web_kpis_df = web_sessions_df.join(web_days_df, on = \"customer_id\", how = \"left\") \\\n",
    "                             .join(engagement_df, on = \"customer_id\", how = \"left\")\n",
    "\n",
    "# Step 5: Join with RFM Table\n",
    "rfm_df = rfm_df.join(web_kpis_df, on = \"customer_id\", how = \"left\").fillna(0)\n",
    "\n",
    "display(rfm_df.limit(10))\n"
   ]
  },
  {
   "cell_type": "markdown",
   "metadata": {
    "application/vnd.databricks.v1+cell": {
     "cellMetadata": {},
     "inputWidgets": {},
     "nuid": "006ed4b3-3c43-4a4e-83ca-fef4dd4ae833",
     "showTitle": false,
     "tableResultSettingsMap": {},
     "title": ""
    }
   },
   "source": [
    "Support Ticket KPIs"
   ]
  },
  {
   "cell_type": "code",
   "execution_count": 0,
   "metadata": {
    "application/vnd.databricks.v1+cell": {
     "cellMetadata": {
      "byteLimit": 2048000,
      "rowLimit": 10000
     },
     "inputWidgets": {},
     "nuid": "cc9d3ad4-ddbc-4f24-9b9b-c12f5f42329c",
     "showTitle": false,
     "tableResultSettingsMap": {},
     "title": ""
    }
   },
   "outputs": [
    {
     "output_type": "display_data",
     "data": {
      "text/html": [
       "<style scoped>\n",
       "  .table-result-container {\n",
       "    max-height: 300px;\n",
       "    overflow: auto;\n",
       "  }\n",
       "  table, th, td {\n",
       "    border: 1px solid black;\n",
       "    border-collapse: collapse;\n",
       "  }\n",
       "  th, td {\n",
       "    padding: 5px;\n",
       "  }\n",
       "  th {\n",
       "    text-align: left;\n",
       "  }\n",
       "</style><div class='table-result-container'><table class='table-result'><thead style='background-color: white'><tr><th>customer_id</th><th>recency_days</th><th>frequency</th><th>monetary_value</th><th>avg_order_value</th><th>payment_method</th><th>total_returns</th><th>return_rate</th><th>total_sessions</th><th>active_days</th><th>engagement_score</th><th>total_tickets</th><th>avg_resolution_days</th><th>open_tickets</th></tr></thead><tbody><tr><td>d8a580b8-4c19-46ba-afaa-e07ac2666d3f</td><td>69</td><td>2</td><td>1451.28</td><td>725.64</td><td>Credit Card</td><td>0</td><td>0.0</td><td>5</td><td>5</td><td>0</td><td>2</td><td>9.0</td><td>1</td></tr><tr><td>59162ae4-44e3-49e2-9c52-3e897c8292b8</td><td>97</td><td>11</td><td>6017.07</td><td>547.01</td><td>Credit Card</td><td>0</td><td>0.0</td><td>1</td><td>1</td><td>0</td><td>0</td><td>0.0</td><td>0</td></tr><tr><td>c866be64-36d4-45b1-864a-2b1165ae6198</td><td>94</td><td>6</td><td>3343.7299999999996</td><td>557.29</td><td>Wallet</td><td>0</td><td>0.0</td><td>2</td><td>2</td><td>0</td><td>1</td><td>0.0</td><td>1</td></tr><tr><td>6acb9ae8-6732-49a0-ad77-f4720e6a9efa</td><td>351</td><td>5</td><td>1663.5</td><td>332.7</td><td>Wallet</td><td>0</td><td>0.0</td><td>3</td><td>3</td><td>0</td><td>1</td><td>23.0</td><td>1</td></tr><tr><td>557c1ec2-d512-4500-820f-55e28b1dc300</td><td>123</td><td>6</td><td>2427.1400000000003</td><td>404.52</td><td>Credit Card</td><td>0</td><td>0.0</td><td>2</td><td>2</td><td>0</td><td>1</td><td>0.0</td><td>1</td></tr><tr><td>96fd27b9-3f67-4748-a90c-281e7eaefc1f</td><td>40</td><td>1</td><td>249.87</td><td>249.87</td><td>UPI</td><td>0</td><td>0.0</td><td>3</td><td>3</td><td>0</td><td>0</td><td>0.0</td><td>0</td></tr><tr><td>5b452ab5-3f2a-4ac5-bd2e-23812c01b811</td><td>200</td><td>4</td><td>2821.76</td><td>705.44</td><td>Credit Card</td><td>1</td><td>0.25</td><td>2</td><td>2</td><td>0</td><td>2</td><td>0.0</td><td>2</td></tr><tr><td>2130fc55-edc4-4272-b77d-e4c3c35cccb7</td><td>248</td><td>4</td><td>1756.49</td><td>439.12</td><td>Wallet</td><td>0</td><td>0.0</td><td>0</td><td>0</td><td>0</td><td>1</td><td>8.0</td><td>0</td></tr><tr><td>899ba871-9497-4f48-beae-6ff5fd1155fa</td><td>176</td><td>4</td><td>3046.5</td><td>761.63</td><td>UPI</td><td>0</td><td>0.0</td><td>1</td><td>1</td><td>0</td><td>1</td><td>3.0</td><td>1</td></tr><tr><td>bc52aab0-71e3-4315-ad57-3c6a4c41c211</td><td>58</td><td>6</td><td>4160.42</td><td>693.4</td><td>Wallet</td><td>0</td><td>0.0</td><td>2</td><td>2</td><td>0</td><td>0</td><td>0.0</td><td>0</td></tr></tbody></table></div>"
      ]
     },
     "metadata": {
      "application/vnd.databricks.v1+output": {
       "addedWidgets": {},
       "aggData": [],
       "aggError": "",
       "aggOverflow": false,
       "aggSchema": [],
       "aggSeriesLimitReached": false,
       "aggType": "",
       "arguments": {},
       "columnCustomDisplayInfos": {},
       "data": [
        [
         "d8a580b8-4c19-46ba-afaa-e07ac2666d3f",
         69,
         2,
         1451.28,
         725.64,
         "Credit Card",
         0,
         0.0,
         5,
         5,
         0,
         2,
         9.0,
         1
        ],
        [
         "59162ae4-44e3-49e2-9c52-3e897c8292b8",
         97,
         11,
         6017.07,
         547.01,
         "Credit Card",
         0,
         0.0,
         1,
         1,
         0,
         0,
         0.0,
         0
        ],
        [
         "c866be64-36d4-45b1-864a-2b1165ae6198",
         94,
         6,
         3343.7299999999996,
         557.29,
         "Wallet",
         0,
         0.0,
         2,
         2,
         0,
         1,
         0.0,
         1
        ],
        [
         "6acb9ae8-6732-49a0-ad77-f4720e6a9efa",
         351,
         5,
         1663.5,
         332.7,
         "Wallet",
         0,
         0.0,
         3,
         3,
         0,
         1,
         23.0,
         1
        ],
        [
         "557c1ec2-d512-4500-820f-55e28b1dc300",
         123,
         6,
         2427.1400000000003,
         404.52,
         "Credit Card",
         0,
         0.0,
         2,
         2,
         0,
         1,
         0.0,
         1
        ],
        [
         "96fd27b9-3f67-4748-a90c-281e7eaefc1f",
         40,
         1,
         249.87,
         249.87,
         "UPI",
         0,
         0.0,
         3,
         3,
         0,
         0,
         0.0,
         0
        ],
        [
         "5b452ab5-3f2a-4ac5-bd2e-23812c01b811",
         200,
         4,
         2821.76,
         705.44,
         "Credit Card",
         1,
         0.25,
         2,
         2,
         0,
         2,
         0.0,
         2
        ],
        [
         "2130fc55-edc4-4272-b77d-e4c3c35cccb7",
         248,
         4,
         1756.49,
         439.12,
         "Wallet",
         0,
         0.0,
         0,
         0,
         0,
         1,
         8.0,
         0
        ],
        [
         "899ba871-9497-4f48-beae-6ff5fd1155fa",
         176,
         4,
         3046.5,
         761.63,
         "UPI",
         0,
         0.0,
         1,
         1,
         0,
         1,
         3.0,
         1
        ],
        [
         "bc52aab0-71e3-4315-ad57-3c6a4c41c211",
         58,
         6,
         4160.42,
         693.4,
         "Wallet",
         0,
         0.0,
         2,
         2,
         0,
         0,
         0.0,
         0
        ]
       ],
       "datasetInfos": [],
       "dbfsResultPath": null,
       "isJsonSchema": true,
       "metadata": {},
       "overflow": false,
       "plotOptions": {
        "customPlotOptions": {},
        "displayType": "table",
        "pivotAggregation": null,
        "pivotColumns": null,
        "xColumns": null,
        "yColumns": null
       },
       "removedWidgets": [],
       "schema": [
        {
         "metadata": "{}",
         "name": "customer_id",
         "type": "\"string\""
        },
        {
         "metadata": "{}",
         "name": "recency_days",
         "type": "\"integer\""
        },
        {
         "metadata": "{}",
         "name": "frequency",
         "type": "\"long\""
        },
        {
         "metadata": "{}",
         "name": "monetary_value",
         "type": "\"double\""
        },
        {
         "metadata": "{}",
         "name": "avg_order_value",
         "type": "\"double\""
        },
        {
         "metadata": "{}",
         "name": "payment_method",
         "type": "\"string\""
        },
        {
         "metadata": "{}",
         "name": "total_returns",
         "type": "\"long\""
        },
        {
         "metadata": "{}",
         "name": "return_rate",
         "type": "\"double\""
        },
        {
         "metadata": "{}",
         "name": "total_sessions",
         "type": "\"long\""
        },
        {
         "metadata": "{}",
         "name": "active_days",
         "type": "\"long\""
        },
        {
         "metadata": "{}",
         "name": "engagement_score",
         "type": "\"long\""
        },
        {
         "metadata": "{}",
         "name": "total_tickets",
         "type": "\"long\""
        },
        {
         "metadata": "{}",
         "name": "avg_resolution_days",
         "type": "\"double\""
        },
        {
         "metadata": "{}",
         "name": "open_tickets",
         "type": "\"long\""
        }
       ],
       "type": "table"
      }
     },
     "output_type": "display_data"
    }
   ],
   "source": [
    "from pyspark.sql.functions import datediff\n",
    "\n",
    "# Step 1: Total tickets per customer\n",
    "tickets_count_df = support_clean_df.groupBy(\"customer_id\") \\\n",
    "                                   .agg(F.count(\"ticket_id\").alias(\"total_tickets\"))\n",
    "\n",
    "# Step 2: Average resolution time (in days)\n",
    "resolution_time_df = support_clean_df.withColumn(\"resolution_days\",\n",
    "                                                 datediff(\"resolved_date\", \"opened_date\")).groupBy(\"customer_id\") \\\n",
    "                                                                                          .agg(F.avg(\"resolution_days\").alias(\"avg_resolution_days\"))\n",
    "\n",
    "# Step 3: Open Tickets (Status != Resolved)\n",
    "open_tickets_df = support_clean_df.filter(F.col(\"status\") != \"Resolved\") \\\n",
    "                                  .groupBy(\"customer_id\") \\\n",
    "                                  .agg(F.count(\"ticket_id\").alias(\"open_tickets\"))\n",
    "\n",
    "# Step 4: Join all Support KPIs\n",
    "support_kpis_df = tickets_count_df.join(resolution_time_df, on = \"customer_id\", how = \"left\") \\\n",
    "                                  .join(open_tickets_df, on = \"customer_id\", how = \"left\")\n",
    "\n",
    "# Step 5: Join with RFM Table\n",
    "rfm_df = rfm_df.join(support_kpis_df, on = \"customer_id\", how = \"left\").fillna(0)\n",
    "\n",
    "display(rfm_df.limit(10))"
   ]
  },
  {
   "cell_type": "markdown",
   "metadata": {
    "application/vnd.databricks.v1+cell": {
     "cellMetadata": {},
     "inputWidgets": {},
     "nuid": "ea9fabbe-e1e3-4b88-a5f8-3cdf34c79a14",
     "showTitle": false,
     "tableResultSettingsMap": {},
     "title": ""
    }
   },
   "source": [
    "Product KPIs"
   ]
  },
  {
   "cell_type": "code",
   "execution_count": 0,
   "metadata": {
    "application/vnd.databricks.v1+cell": {
     "cellMetadata": {
      "byteLimit": 2048000,
      "rowLimit": 10000
     },
     "inputWidgets": {},
     "nuid": "7158c860-5524-4c58-a3b5-f180baa3e7f9",
     "showTitle": false,
     "tableResultSettingsMap": {},
     "title": ""
    }
   },
   "outputs": [
    {
     "output_type": "display_data",
     "data": {
      "text/html": [
       "<style scoped>\n",
       "  .table-result-container {\n",
       "    max-height: 300px;\n",
       "    overflow: auto;\n",
       "  }\n",
       "  table, th, td {\n",
       "    border: 1px solid black;\n",
       "    border-collapse: collapse;\n",
       "  }\n",
       "  th, td {\n",
       "    padding: 5px;\n",
       "  }\n",
       "  th {\n",
       "    text-align: left;\n",
       "  }\n",
       "</style><div class='table-result-container'><table class='table-result'><thead style='background-color: white'><tr><th>customer_id</th><th>recency_days</th><th>frequency</th><th>monetary_value</th><th>avg_order_value</th><th>payment_method</th><th>total_returns</th><th>return_rate</th><th>total_sessions</th><th>active_days</th><th>engagement_score</th><th>total_tickets</th><th>avg_resolution_days</th><th>open_tickets</th><th>top_category</th><th>top_brand</th></tr></thead><tbody><tr><td>d8a580b8-4c19-46ba-afaa-e07ac2666d3f</td><td>69</td><td>2</td><td>1451.28</td><td>725.64</td><td>Credit Card</td><td>0</td><td>0.0</td><td>5</td><td>5</td><td>0</td><td>2</td><td>9.0</td><td>1</td><td>Grocery</td><td>Smith LLC</td></tr><tr><td>59162ae4-44e3-49e2-9c52-3e897c8292b8</td><td>97</td><td>11</td><td>6017.07</td><td>547.01</td><td>Credit Card</td><td>0</td><td>0.0</td><td>1</td><td>1</td><td>0</td><td>0</td><td>0.0</td><td>0</td><td>Sports</td><td>Le, Gonzales and Robinson</td></tr><tr><td>c866be64-36d4-45b1-864a-2b1165ae6198</td><td>94</td><td>6</td><td>3343.7299999999996</td><td>557.29</td><td>Wallet</td><td>0</td><td>0.0</td><td>2</td><td>2</td><td>0</td><td>1</td><td>0.0</td><td>1</td><td>Home</td><td>Le, Gonzales and Robinson</td></tr><tr><td>6acb9ae8-6732-49a0-ad77-f4720e6a9efa</td><td>351</td><td>5</td><td>1663.5</td><td>332.7</td><td>Wallet</td><td>0</td><td>0.0</td><td>3</td><td>3</td><td>0</td><td>1</td><td>23.0</td><td>1</td><td>Clothing</td><td>Chavez-Turner</td></tr><tr><td>557c1ec2-d512-4500-820f-55e28b1dc300</td><td>123</td><td>6</td><td>2427.1400000000003</td><td>404.52</td><td>Credit Card</td><td>0</td><td>0.0</td><td>2</td><td>2</td><td>0</td><td>1</td><td>0.0</td><td>1</td><td>Clothing</td><td>Green, Hall and Scott</td></tr><tr><td>96fd27b9-3f67-4748-a90c-281e7eaefc1f</td><td>40</td><td>1</td><td>249.87</td><td>249.87</td><td>UPI</td><td>0</td><td>0.0</td><td>3</td><td>3</td><td>0</td><td>0</td><td>0.0</td><td>0</td><td>Home</td><td>Meyers-Taylor</td></tr><tr><td>5b452ab5-3f2a-4ac5-bd2e-23812c01b811</td><td>200</td><td>4</td><td>2821.76</td><td>705.44</td><td>Credit Card</td><td>1</td><td>0.25</td><td>2</td><td>2</td><td>0</td><td>2</td><td>0.0</td><td>2</td><td>Grocery</td><td>Kim, Barrera and Griffin</td></tr><tr><td>2130fc55-edc4-4272-b77d-e4c3c35cccb7</td><td>248</td><td>4</td><td>1756.49</td><td>439.12</td><td>Wallet</td><td>0</td><td>0.0</td><td>0</td><td>0</td><td>0</td><td>1</td><td>8.0</td><td>0</td><td>Grocery</td><td>Spears PLC</td></tr><tr><td>899ba871-9497-4f48-beae-6ff5fd1155fa</td><td>176</td><td>4</td><td>3046.5</td><td>761.63</td><td>UPI</td><td>0</td><td>0.0</td><td>1</td><td>1</td><td>0</td><td>1</td><td>3.0</td><td>1</td><td>Clothing</td><td>Compton, Cordova and Martinez</td></tr><tr><td>bc52aab0-71e3-4315-ad57-3c6a4c41c211</td><td>58</td><td>6</td><td>4160.42</td><td>693.4</td><td>Wallet</td><td>0</td><td>0.0</td><td>2</td><td>2</td><td>0</td><td>0</td><td>0.0</td><td>0</td><td>Electronics</td><td>Chambers Ltd</td></tr></tbody></table></div>"
      ]
     },
     "metadata": {
      "application/vnd.databricks.v1+output": {
       "addedWidgets": {},
       "aggData": [],
       "aggError": "",
       "aggOverflow": false,
       "aggSchema": [],
       "aggSeriesLimitReached": false,
       "aggType": "",
       "arguments": {},
       "columnCustomDisplayInfos": {},
       "data": [
        [
         "d8a580b8-4c19-46ba-afaa-e07ac2666d3f",
         69,
         2,
         1451.28,
         725.64,
         "Credit Card",
         0,
         0.0,
         5,
         5,
         0,
         2,
         9.0,
         1,
         "Grocery",
         "Smith LLC"
        ],
        [
         "59162ae4-44e3-49e2-9c52-3e897c8292b8",
         97,
         11,
         6017.07,
         547.01,
         "Credit Card",
         0,
         0.0,
         1,
         1,
         0,
         0,
         0.0,
         0,
         "Sports",
         "Le, Gonzales and Robinson"
        ],
        [
         "c866be64-36d4-45b1-864a-2b1165ae6198",
         94,
         6,
         3343.7299999999996,
         557.29,
         "Wallet",
         0,
         0.0,
         2,
         2,
         0,
         1,
         0.0,
         1,
         "Home",
         "Le, Gonzales and Robinson"
        ],
        [
         "6acb9ae8-6732-49a0-ad77-f4720e6a9efa",
         351,
         5,
         1663.5,
         332.7,
         "Wallet",
         0,
         0.0,
         3,
         3,
         0,
         1,
         23.0,
         1,
         "Clothing",
         "Chavez-Turner"
        ],
        [
         "557c1ec2-d512-4500-820f-55e28b1dc300",
         123,
         6,
         2427.1400000000003,
         404.52,
         "Credit Card",
         0,
         0.0,
         2,
         2,
         0,
         1,
         0.0,
         1,
         "Clothing",
         "Green, Hall and Scott"
        ],
        [
         "96fd27b9-3f67-4748-a90c-281e7eaefc1f",
         40,
         1,
         249.87,
         249.87,
         "UPI",
         0,
         0.0,
         3,
         3,
         0,
         0,
         0.0,
         0,
         "Home",
         "Meyers-Taylor"
        ],
        [
         "5b452ab5-3f2a-4ac5-bd2e-23812c01b811",
         200,
         4,
         2821.76,
         705.44,
         "Credit Card",
         1,
         0.25,
         2,
         2,
         0,
         2,
         0.0,
         2,
         "Grocery",
         "Kim, Barrera and Griffin"
        ],
        [
         "2130fc55-edc4-4272-b77d-e4c3c35cccb7",
         248,
         4,
         1756.49,
         439.12,
         "Wallet",
         0,
         0.0,
         0,
         0,
         0,
         1,
         8.0,
         0,
         "Grocery",
         "Spears PLC"
        ],
        [
         "899ba871-9497-4f48-beae-6ff5fd1155fa",
         176,
         4,
         3046.5,
         761.63,
         "UPI",
         0,
         0.0,
         1,
         1,
         0,
         1,
         3.0,
         1,
         "Clothing",
         "Compton, Cordova and Martinez"
        ],
        [
         "bc52aab0-71e3-4315-ad57-3c6a4c41c211",
         58,
         6,
         4160.42,
         693.4,
         "Wallet",
         0,
         0.0,
         2,
         2,
         0,
         0,
         0.0,
         0,
         "Electronics",
         "Chambers Ltd"
        ]
       ],
       "datasetInfos": [],
       "dbfsResultPath": null,
       "isJsonSchema": true,
       "metadata": {},
       "overflow": false,
       "plotOptions": {
        "customPlotOptions": {},
        "displayType": "table",
        "pivotAggregation": null,
        "pivotColumns": null,
        "xColumns": null,
        "yColumns": null
       },
       "removedWidgets": [],
       "schema": [
        {
         "metadata": "{}",
         "name": "customer_id",
         "type": "\"string\""
        },
        {
         "metadata": "{}",
         "name": "recency_days",
         "type": "\"integer\""
        },
        {
         "metadata": "{}",
         "name": "frequency",
         "type": "\"long\""
        },
        {
         "metadata": "{}",
         "name": "monetary_value",
         "type": "\"double\""
        },
        {
         "metadata": "{}",
         "name": "avg_order_value",
         "type": "\"double\""
        },
        {
         "metadata": "{}",
         "name": "payment_method",
         "type": "\"string\""
        },
        {
         "metadata": "{}",
         "name": "total_returns",
         "type": "\"long\""
        },
        {
         "metadata": "{}",
         "name": "return_rate",
         "type": "\"double\""
        },
        {
         "metadata": "{}",
         "name": "total_sessions",
         "type": "\"long\""
        },
        {
         "metadata": "{}",
         "name": "active_days",
         "type": "\"long\""
        },
        {
         "metadata": "{}",
         "name": "engagement_score",
         "type": "\"long\""
        },
        {
         "metadata": "{}",
         "name": "total_tickets",
         "type": "\"long\""
        },
        {
         "metadata": "{}",
         "name": "avg_resolution_days",
         "type": "\"double\""
        },
        {
         "metadata": "{}",
         "name": "open_tickets",
         "type": "\"long\""
        },
        {
         "metadata": "{}",
         "name": "top_category",
         "type": "\"string\""
        },
        {
         "metadata": "{}",
         "name": "top_brand",
         "type": "\"string\""
        }
       ],
       "type": "table"
      }
     },
     "output_type": "display_data"
    }
   ],
   "source": [
    "from pyspark.sql import functions as F\n",
    "from pyspark.sql.window import Window\n",
    "\n",
    "# Step 1: Join Transactions with Products to get category and brand info\n",
    "txn_products_df = transactions_clean_df.join(products_clean_df, on = \"product_id\", how = \"left\")\n",
    "\n",
    "# Step 2: Total Spend per category per customer\n",
    "category_spend_df = txn_products_df.groupBy(\"customer_id\", \"category\") \\\n",
    "                                   .agg(F.sum(\"amount\").alias(\"category_spend\"))\n",
    "\n",
    "# Step 3: Get Top Category per customer (highest spend)\n",
    "category_window = Window.partitionBy(\"customer_id\").orderBy(F.col(\"category_spend\").desc())\n",
    "\n",
    "top_category_df = category_spend_df.withColumn(\"rank\", F.rank().over(category_window)) \\\n",
    "                                   .filter(F.col(\"rank\") == 1) \\\n",
    "                                   .drop(\"rank\", \"category_spend\") \\\n",
    "                                   .withColumnRenamed(\"category\", \"top_category\")\n",
    "\n",
    "# Step 4: Total Spend per brand per customer\n",
    "brand_spend_df = txn_products_df.groupBy(\"customer_id\", \"brand\") \\\n",
    "                                .agg(F.sum(\"amount\").alias(\"brand_spend\"))\n",
    "\n",
    "# Step 5: Get Top brand per customer\n",
    "brand_window = Window.partitionBy(\"customer_id\").orderBy(F.col(\"brand_spend\").desc())\n",
    "                            \n",
    "top_brand_df = brand_spend_df.withColumn(\"rank\", F.rank().over(brand_window)) \\\n",
    "                             .filter(F.col(\"rank\") == 1) \\\n",
    "                             .drop(\"rank\", \"brand_spend\") \\\n",
    "                             .withColumnRenamed(\"brand\", \"top_brand\")\n",
    "\n",
    "# Step 6: Join Top Category & Top Brand with RFM Table\n",
    "rfm_df = rfm_df.join(top_category_df, on = \"customer_id\", how = \"left\") \\\n",
    "               .join(top_brand_df, on = \"customer_id\", how = \"left\")\n",
    "\n",
    "display(rfm_df.limit(10))"
   ]
  },
  {
   "cell_type": "markdown",
   "metadata": {
    "application/vnd.databricks.v1+cell": {
     "cellMetadata": {},
     "inputWidgets": {},
     "nuid": "e0891d95-54cf-44ed-9409-30bee93fae66",
     "showTitle": false,
     "tableResultSettingsMap": {},
     "title": ""
    }
   },
   "source": [
    "Customer 360 Table"
   ]
  },
  {
   "cell_type": "code",
   "execution_count": 0,
   "metadata": {
    "application/vnd.databricks.v1+cell": {
     "cellMetadata": {
      "byteLimit": 2048000,
      "rowLimit": 10000
     },
     "inputWidgets": {},
     "nuid": "0be82ce1-541e-469b-8182-4c4582deccaf",
     "showTitle": false,
     "tableResultSettingsMap": {},
     "title": ""
    }
   },
   "outputs": [
    {
     "output_type": "display_data",
     "data": {
      "text/html": [
       "<style scoped>\n",
       "  .table-result-container {\n",
       "    max-height: 300px;\n",
       "    overflow: auto;\n",
       "  }\n",
       "  table, th, td {\n",
       "    border: 1px solid black;\n",
       "    border-collapse: collapse;\n",
       "  }\n",
       "  th, td {\n",
       "    padding: 5px;\n",
       "  }\n",
       "  th {\n",
       "    text-align: left;\n",
       "  }\n",
       "</style><div class='table-result-container'><table class='table-result'><thead style='background-color: white'><tr><th>customer_id</th><th>recency_days</th><th>frequency</th><th>monetary_value</th><th>avg_order_value</th><th>payment_method</th><th>total_returns</th><th>return_rate</th><th>total_sessions</th><th>active_days</th><th>engagement_score</th><th>total_tickets</th><th>avg_resolution_days</th><th>open_tickets</th><th>top_category</th><th>top_brand</th></tr></thead><tbody><tr><td>d8a580b8-4c19-46ba-afaa-e07ac2666d3f</td><td>69</td><td>2</td><td>1451.28</td><td>725.64</td><td>Credit Card</td><td>0</td><td>0.0</td><td>5</td><td>5</td><td>0</td><td>2</td><td>9.0</td><td>1</td><td>Grocery</td><td>Smith LLC</td></tr><tr><td>59162ae4-44e3-49e2-9c52-3e897c8292b8</td><td>97</td><td>11</td><td>6017.07</td><td>547.01</td><td>Credit Card</td><td>0</td><td>0.0</td><td>1</td><td>1</td><td>0</td><td>0</td><td>0.0</td><td>0</td><td>Sports</td><td>Le, Gonzales and Robinson</td></tr><tr><td>c866be64-36d4-45b1-864a-2b1165ae6198</td><td>94</td><td>6</td><td>3343.7299999999996</td><td>557.29</td><td>Wallet</td><td>0</td><td>0.0</td><td>2</td><td>2</td><td>0</td><td>1</td><td>0.0</td><td>1</td><td>Home</td><td>Le, Gonzales and Robinson</td></tr><tr><td>6acb9ae8-6732-49a0-ad77-f4720e6a9efa</td><td>351</td><td>5</td><td>1663.5</td><td>332.7</td><td>Wallet</td><td>0</td><td>0.0</td><td>3</td><td>3</td><td>0</td><td>1</td><td>23.0</td><td>1</td><td>Clothing</td><td>Chavez-Turner</td></tr><tr><td>557c1ec2-d512-4500-820f-55e28b1dc300</td><td>123</td><td>6</td><td>2427.1400000000003</td><td>404.52</td><td>Credit Card</td><td>0</td><td>0.0</td><td>2</td><td>2</td><td>0</td><td>1</td><td>0.0</td><td>1</td><td>Clothing</td><td>Green, Hall and Scott</td></tr><tr><td>96fd27b9-3f67-4748-a90c-281e7eaefc1f</td><td>40</td><td>1</td><td>249.87</td><td>249.87</td><td>UPI</td><td>0</td><td>0.0</td><td>3</td><td>3</td><td>0</td><td>0</td><td>0.0</td><td>0</td><td>Home</td><td>Meyers-Taylor</td></tr><tr><td>5b452ab5-3f2a-4ac5-bd2e-23812c01b811</td><td>200</td><td>4</td><td>2821.76</td><td>705.44</td><td>Credit Card</td><td>1</td><td>0.25</td><td>2</td><td>2</td><td>0</td><td>2</td><td>0.0</td><td>2</td><td>Grocery</td><td>Kim, Barrera and Griffin</td></tr><tr><td>2130fc55-edc4-4272-b77d-e4c3c35cccb7</td><td>248</td><td>4</td><td>1756.49</td><td>439.12</td><td>Wallet</td><td>0</td><td>0.0</td><td>0</td><td>0</td><td>0</td><td>1</td><td>8.0</td><td>0</td><td>Grocery</td><td>Spears PLC</td></tr><tr><td>899ba871-9497-4f48-beae-6ff5fd1155fa</td><td>176</td><td>4</td><td>3046.5</td><td>761.63</td><td>UPI</td><td>0</td><td>0.0</td><td>1</td><td>1</td><td>0</td><td>1</td><td>3.0</td><td>1</td><td>Clothing</td><td>Compton, Cordova and Martinez</td></tr><tr><td>bc52aab0-71e3-4315-ad57-3c6a4c41c211</td><td>58</td><td>6</td><td>4160.42</td><td>693.4</td><td>Wallet</td><td>0</td><td>0.0</td><td>2</td><td>2</td><td>0</td><td>0</td><td>0.0</td><td>0</td><td>Electronics</td><td>Chambers Ltd</td></tr></tbody></table></div>"
      ]
     },
     "metadata": {
      "application/vnd.databricks.v1+output": {
       "addedWidgets": {},
       "aggData": [],
       "aggError": "",
       "aggOverflow": false,
       "aggSchema": [],
       "aggSeriesLimitReached": false,
       "aggType": "",
       "arguments": {},
       "columnCustomDisplayInfos": {},
       "data": [
        [
         "d8a580b8-4c19-46ba-afaa-e07ac2666d3f",
         69,
         2,
         1451.28,
         725.64,
         "Credit Card",
         0,
         0.0,
         5,
         5,
         0,
         2,
         9.0,
         1,
         "Grocery",
         "Smith LLC"
        ],
        [
         "59162ae4-44e3-49e2-9c52-3e897c8292b8",
         97,
         11,
         6017.07,
         547.01,
         "Credit Card",
         0,
         0.0,
         1,
         1,
         0,
         0,
         0.0,
         0,
         "Sports",
         "Le, Gonzales and Robinson"
        ],
        [
         "c866be64-36d4-45b1-864a-2b1165ae6198",
         94,
         6,
         3343.7299999999996,
         557.29,
         "Wallet",
         0,
         0.0,
         2,
         2,
         0,
         1,
         0.0,
         1,
         "Home",
         "Le, Gonzales and Robinson"
        ],
        [
         "6acb9ae8-6732-49a0-ad77-f4720e6a9efa",
         351,
         5,
         1663.5,
         332.7,
         "Wallet",
         0,
         0.0,
         3,
         3,
         0,
         1,
         23.0,
         1,
         "Clothing",
         "Chavez-Turner"
        ],
        [
         "557c1ec2-d512-4500-820f-55e28b1dc300",
         123,
         6,
         2427.1400000000003,
         404.52,
         "Credit Card",
         0,
         0.0,
         2,
         2,
         0,
         1,
         0.0,
         1,
         "Clothing",
         "Green, Hall and Scott"
        ],
        [
         "96fd27b9-3f67-4748-a90c-281e7eaefc1f",
         40,
         1,
         249.87,
         249.87,
         "UPI",
         0,
         0.0,
         3,
         3,
         0,
         0,
         0.0,
         0,
         "Home",
         "Meyers-Taylor"
        ],
        [
         "5b452ab5-3f2a-4ac5-bd2e-23812c01b811",
         200,
         4,
         2821.76,
         705.44,
         "Credit Card",
         1,
         0.25,
         2,
         2,
         0,
         2,
         0.0,
         2,
         "Grocery",
         "Kim, Barrera and Griffin"
        ],
        [
         "2130fc55-edc4-4272-b77d-e4c3c35cccb7",
         248,
         4,
         1756.49,
         439.12,
         "Wallet",
         0,
         0.0,
         0,
         0,
         0,
         1,
         8.0,
         0,
         "Grocery",
         "Spears PLC"
        ],
        [
         "899ba871-9497-4f48-beae-6ff5fd1155fa",
         176,
         4,
         3046.5,
         761.63,
         "UPI",
         0,
         0.0,
         1,
         1,
         0,
         1,
         3.0,
         1,
         "Clothing",
         "Compton, Cordova and Martinez"
        ],
        [
         "bc52aab0-71e3-4315-ad57-3c6a4c41c211",
         58,
         6,
         4160.42,
         693.4,
         "Wallet",
         0,
         0.0,
         2,
         2,
         0,
         0,
         0.0,
         0,
         "Electronics",
         "Chambers Ltd"
        ]
       ],
       "datasetInfos": [],
       "dbfsResultPath": null,
       "isJsonSchema": true,
       "metadata": {},
       "overflow": false,
       "plotOptions": {
        "customPlotOptions": {},
        "displayType": "table",
        "pivotAggregation": null,
        "pivotColumns": null,
        "xColumns": null,
        "yColumns": null
       },
       "removedWidgets": [],
       "schema": [
        {
         "metadata": "{}",
         "name": "customer_id",
         "type": "\"string\""
        },
        {
         "metadata": "{}",
         "name": "recency_days",
         "type": "\"integer\""
        },
        {
         "metadata": "{}",
         "name": "frequency",
         "type": "\"long\""
        },
        {
         "metadata": "{}",
         "name": "monetary_value",
         "type": "\"double\""
        },
        {
         "metadata": "{}",
         "name": "avg_order_value",
         "type": "\"double\""
        },
        {
         "metadata": "{}",
         "name": "payment_method",
         "type": "\"string\""
        },
        {
         "metadata": "{}",
         "name": "total_returns",
         "type": "\"long\""
        },
        {
         "metadata": "{}",
         "name": "return_rate",
         "type": "\"double\""
        },
        {
         "metadata": "{}",
         "name": "total_sessions",
         "type": "\"long\""
        },
        {
         "metadata": "{}",
         "name": "active_days",
         "type": "\"long\""
        },
        {
         "metadata": "{}",
         "name": "engagement_score",
         "type": "\"long\""
        },
        {
         "metadata": "{}",
         "name": "total_tickets",
         "type": "\"long\""
        },
        {
         "metadata": "{}",
         "name": "avg_resolution_days",
         "type": "\"double\""
        },
        {
         "metadata": "{}",
         "name": "open_tickets",
         "type": "\"long\""
        },
        {
         "metadata": "{}",
         "name": "top_category",
         "type": "\"string\""
        },
        {
         "metadata": "{}",
         "name": "top_brand",
         "type": "\"string\""
        }
       ],
       "type": "table"
      }
     },
     "output_type": "display_data"
    }
   ],
   "source": [
    "# Final Customer 360 Table\n",
    "\n",
    "customer_360_df = rfm_df.select(\n",
    "    \"customer_id\",\n",
    "    \"recency_days\",\n",
    "    \"frequency\",\n",
    "    \"monetary_value\",\n",
    "    \"avg_order_value\",\n",
    "    \"payment_method\",\n",
    "    \"total_returns\",\n",
    "    \"return_rate\",\n",
    "    \"total_sessions\",\n",
    "    \"active_days\",\n",
    "    \"engagement_score\",\n",
    "    \"total_tickets\",\n",
    "    \"avg_resolution_days\",\n",
    "    \"open_tickets\",\n",
    "    \"top_category\",\n",
    "    \"top_brand\"\n",
    ")\n",
    "\n",
    "display(customer_360_df.limit(10))"
   ]
  },
  {
   "cell_type": "code",
   "execution_count": 0,
   "metadata": {
    "application/vnd.databricks.v1+cell": {
     "cellMetadata": {
      "byteLimit": 2048000,
      "rowLimit": 10000
     },
     "inputWidgets": {},
     "nuid": "aa96b693-cfff-45f4-a5fe-4032f42286c2",
     "showTitle": false,
     "tableResultSettingsMap": {},
     "title": ""
    }
   },
   "outputs": [],
   "source": [
    "# Saving the Customer 360 Table\n",
    "\n",
    "customer_360_df.toPandas().to_csv(\"customer_360.csv\", index=False)"
   ]
  },
  {
   "cell_type": "code",
   "execution_count": 0,
   "metadata": {
    "application/vnd.databricks.v1+cell": {
     "cellMetadata": {
      "byteLimit": 2048000,
      "rowLimit": 10000
     },
     "inputWidgets": {},
     "nuid": "b357aa4f-2898-4788-95ca-18d0fafb2269",
     "showTitle": false,
     "tableResultSettingsMap": {},
     "title": ""
    }
   },
   "outputs": [
    {
     "output_type": "display_data",
     "data": {
      "text/html": [
       "<style scoped>\n",
       "  .table-result-container {\n",
       "    max-height: 300px;\n",
       "    overflow: auto;\n",
       "  }\n",
       "  table, th, td {\n",
       "    border: 1px solid black;\n",
       "    border-collapse: collapse;\n",
       "  }\n",
       "  th, td {\n",
       "    padding: 5px;\n",
       "  }\n",
       "  th {\n",
       "    text-align: left;\n",
       "  }\n",
       "</style><div class='table-result-container'><table class='table-result'><thead style='background-color: white'><tr><th>customer_id</th><th>recency_days</th><th>frequency</th><th>monetary_value</th><th>avg_order_value</th><th>payment_method</th><th>total_returns</th><th>return_rate</th><th>total_sessions</th><th>active_days</th><th>engagement_score</th><th>total_tickets</th><th>avg_resolution_days</th><th>open_tickets</th><th>top_category</th><th>top_brand</th></tr></thead><tbody><tr><td>d551c651-ed73-437b-a0fa-0431eec32330</td><td>43</td><td>17</td><td>10909.650000000001</td><td>641.74</td><td>Credit Card</td><td>1</td><td>0.06</td><td>3</td><td>3</td><td>0</td><td>0</td><td>0.0</td><td>0</td><td>Clothing</td><td>Hendrix-Ruiz</td></tr><tr><td>4b0ca07d-5d92-4ebc-9cdd-a8d5e7f4de7d</td><td>22</td><td>12</td><td>10537.27</td><td>878.11</td><td>UPI</td><td>1</td><td>0.08</td><td>2</td><td>2</td><td>0</td><td>2</td><td>16.0</td><td>1</td><td>Clothing</td><td>Spears PLC</td></tr><tr><td>ef4e70f5-7dce-4781-a520-d07f58ed36d5</td><td>12</td><td>9</td><td>10223.07</td><td>1135.9</td><td>Credit Card</td><td>0</td><td>0.0</td><td>2</td><td>2</td><td>0</td><td>1</td><td>0.0</td><td>1</td><td>Grocery</td><td>Shaw Inc</td></tr><tr><td>3dc1ac29-f1a2-4eba-94d3-b75bf01c47e5</td><td>30</td><td>12</td><td>10063.800000000001</td><td>838.65</td><td>UPI</td><td>0</td><td>0.0</td><td>6</td><td>6</td><td>0</td><td>1</td><td>30.0</td><td>0</td><td>Sports</td><td>Ingram, Harris and Sanchez</td></tr><tr><td>68ab34bd-80d7-46e3-a92e-5abca973d0c8</td><td>14</td><td>13</td><td>9888.61</td><td>760.66</td><td>Cash</td><td>0</td><td>0.0</td><td>9</td><td>9</td><td>0</td><td>1</td><td>1.0</td><td>1</td><td>Sports</td><td>Hines, Norris and Thompson</td></tr><tr><td>21375e94-505f-4957-b1ce-fe0cd9879ba0</td><td>15</td><td>12</td><td>9831.39</td><td>819.28</td><td>Wallet</td><td>0</td><td>0.0</td><td>4</td><td>4</td><td>0</td><td>0</td><td>0.0</td><td>0</td><td>Electronics</td><td>Chang, Quinn and Martinez</td></tr><tr><td>ee660523-efb6-4261-b1b9-aa1fabc06d2a</td><td>44</td><td>11</td><td>9701.92</td><td>881.99</td><td>Cash</td><td>0</td><td>0.0</td><td>4</td><td>4</td><td>0</td><td>0</td><td>0.0</td><td>0</td><td>Home</td><td>Salazar PLC</td></tr><tr><td>567c1b55-b9d0-4030-963e-72688fd8b569</td><td>58</td><td>10</td><td>9593.329999999998</td><td>959.33</td><td>Credit Card</td><td>1</td><td>0.1</td><td>7</td><td>7</td><td>0</td><td>1</td><td>24.0</td><td>1</td><td>Sports</td><td>Ball, Freeman and Bryant</td></tr><tr><td>5f59d385-aa45-41b9-8f95-285a5f4f1e1a</td><td>102</td><td>11</td><td>9274.27</td><td>843.12</td><td>Cash</td><td>2</td><td>0.18</td><td>2</td><td>2</td><td>0</td><td>1</td><td>25.0</td><td>0</td><td>Grocery</td><td>Ingram, Bailey and Acosta</td></tr><tr><td>5f59d385-aa45-41b9-8f95-285a5f4f1e1a</td><td>102</td><td>11</td><td>9274.27</td><td>843.12</td><td>UPI</td><td>2</td><td>0.18</td><td>2</td><td>2</td><td>0</td><td>1</td><td>25.0</td><td>0</td><td>Grocery</td><td>Ingram, Bailey and Acosta</td></tr></tbody></table></div>"
      ]
     },
     "metadata": {
      "application/vnd.databricks.v1+output": {
       "addedWidgets": {},
       "aggData": [],
       "aggError": "",
       "aggOverflow": false,
       "aggSchema": [],
       "aggSeriesLimitReached": false,
       "aggType": "",
       "arguments": {},
       "columnCustomDisplayInfos": {},
       "data": [
        [
         "d551c651-ed73-437b-a0fa-0431eec32330",
         43,
         17,
         10909.650000000001,
         641.74,
         "Credit Card",
         1,
         0.06,
         3,
         3,
         0,
         0,
         0.0,
         0,
         "Clothing",
         "Hendrix-Ruiz"
        ],
        [
         "4b0ca07d-5d92-4ebc-9cdd-a8d5e7f4de7d",
         22,
         12,
         10537.27,
         878.11,
         "UPI",
         1,
         0.08,
         2,
         2,
         0,
         2,
         16.0,
         1,
         "Clothing",
         "Spears PLC"
        ],
        [
         "ef4e70f5-7dce-4781-a520-d07f58ed36d5",
         12,
         9,
         10223.07,
         1135.9,
         "Credit Card",
         0,
         0.0,
         2,
         2,
         0,
         1,
         0.0,
         1,
         "Grocery",
         "Shaw Inc"
        ],
        [
         "3dc1ac29-f1a2-4eba-94d3-b75bf01c47e5",
         30,
         12,
         10063.800000000001,
         838.65,
         "UPI",
         0,
         0.0,
         6,
         6,
         0,
         1,
         30.0,
         0,
         "Sports",
         "Ingram, Harris and Sanchez"
        ],
        [
         "68ab34bd-80d7-46e3-a92e-5abca973d0c8",
         14,
         13,
         9888.61,
         760.66,
         "Cash",
         0,
         0.0,
         9,
         9,
         0,
         1,
         1.0,
         1,
         "Sports",
         "Hines, Norris and Thompson"
        ],
        [
         "21375e94-505f-4957-b1ce-fe0cd9879ba0",
         15,
         12,
         9831.39,
         819.28,
         "Wallet",
         0,
         0.0,
         4,
         4,
         0,
         0,
         0.0,
         0,
         "Electronics",
         "Chang, Quinn and Martinez"
        ],
        [
         "ee660523-efb6-4261-b1b9-aa1fabc06d2a",
         44,
         11,
         9701.92,
         881.99,
         "Cash",
         0,
         0.0,
         4,
         4,
         0,
         0,
         0.0,
         0,
         "Home",
         "Salazar PLC"
        ],
        [
         "567c1b55-b9d0-4030-963e-72688fd8b569",
         58,
         10,
         9593.329999999998,
         959.33,
         "Credit Card",
         1,
         0.1,
         7,
         7,
         0,
         1,
         24.0,
         1,
         "Sports",
         "Ball, Freeman and Bryant"
        ],
        [
         "5f59d385-aa45-41b9-8f95-285a5f4f1e1a",
         102,
         11,
         9274.27,
         843.12,
         "Cash",
         2,
         0.18,
         2,
         2,
         0,
         1,
         25.0,
         0,
         "Grocery",
         "Ingram, Bailey and Acosta"
        ],
        [
         "5f59d385-aa45-41b9-8f95-285a5f4f1e1a",
         102,
         11,
         9274.27,
         843.12,
         "UPI",
         2,
         0.18,
         2,
         2,
         0,
         1,
         25.0,
         0,
         "Grocery",
         "Ingram, Bailey and Acosta"
        ]
       ],
       "datasetInfos": [],
       "dbfsResultPath": null,
       "isJsonSchema": true,
       "metadata": {},
       "overflow": false,
       "plotOptions": {
        "customPlotOptions": {},
        "displayType": "table",
        "pivotAggregation": null,
        "pivotColumns": null,
        "xColumns": null,
        "yColumns": null
       },
       "removedWidgets": [],
       "schema": [
        {
         "metadata": "{}",
         "name": "customer_id",
         "type": "\"string\""
        },
        {
         "metadata": "{}",
         "name": "recency_days",
         "type": "\"integer\""
        },
        {
         "metadata": "{}",
         "name": "frequency",
         "type": "\"long\""
        },
        {
         "metadata": "{}",
         "name": "monetary_value",
         "type": "\"double\""
        },
        {
         "metadata": "{}",
         "name": "avg_order_value",
         "type": "\"double\""
        },
        {
         "metadata": "{}",
         "name": "payment_method",
         "type": "\"string\""
        },
        {
         "metadata": "{}",
         "name": "total_returns",
         "type": "\"long\""
        },
        {
         "metadata": "{}",
         "name": "return_rate",
         "type": "\"double\""
        },
        {
         "metadata": "{}",
         "name": "total_sessions",
         "type": "\"long\""
        },
        {
         "metadata": "{}",
         "name": "active_days",
         "type": "\"long\""
        },
        {
         "metadata": "{}",
         "name": "engagement_score",
         "type": "\"long\""
        },
        {
         "metadata": "{}",
         "name": "total_tickets",
         "type": "\"long\""
        },
        {
         "metadata": "{}",
         "name": "avg_resolution_days",
         "type": "\"double\""
        },
        {
         "metadata": "{}",
         "name": "open_tickets",
         "type": "\"long\""
        },
        {
         "metadata": "{}",
         "name": "top_category",
         "type": "\"string\""
        },
        {
         "metadata": "{}",
         "name": "top_brand",
         "type": "\"string\""
        }
       ],
       "type": "table"
      }
     },
     "output_type": "display_data"
    }
   ],
   "source": [
    "# Quick Insights\n",
    "display(customer_360_df.orderBy(F.col(\"monetary_value\").desc()).limit(10))"
   ]
  }
 ],
 "metadata": {
  "application/vnd.databricks.v1+notebook": {
   "computePreferences": null,
   "dashboards": [],
   "environmentMetadata": {
    "base_environment": "",
    "environment_version": "3"
   },
   "inputWidgetPreferences": null,
   "language": "python",
   "notebookMetadata": {
    "pythonIndentUnit": 4
   },
   "notebookName": "CIP_02_Feature_Engineering_and_cleaning",
   "widgets": {}
  },
  "language_info": {
   "name": "python"
  }
 },
 "nbformat": 4,
 "nbformat_minor": 0
}