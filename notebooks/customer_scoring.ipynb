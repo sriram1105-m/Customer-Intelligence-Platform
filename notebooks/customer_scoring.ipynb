{
 "cells": [
  {
   "cell_type": "code",
   "execution_count": 0,
   "metadata": {
    "application/vnd.databricks.v1+cell": {
     "cellMetadata": {
      "byteLimit": 2048000,
      "rowLimit": 10000
     },
     "inputWidgets": {},
     "nuid": "5edc90f6-3902-4200-8dba-ffad914016ff",
     "showTitle": false,
     "tableResultSettingsMap": {},
     "title": ""
    }
   },
   "outputs": [
    {
     "output_type": "stream",
     "name": "stdout",
     "output_type": "stream",
     "text": [
      "Rows: 15994 | Columns: 17\n"
     ]
    },
    {
     "output_type": "display_data",
     "data": {
      "text/html": [
       "<style scoped>\n",
       "  .table-result-container {\n",
       "    max-height: 300px;\n",
       "    overflow: auto;\n",
       "  }\n",
       "  table, th, td {\n",
       "    border: 1px solid black;\n",
       "    border-collapse: collapse;\n",
       "  }\n",
       "  th, td {\n",
       "    padding: 5px;\n",
       "  }\n",
       "  th {\n",
       "    text-align: left;\n",
       "  }\n",
       "</style><div class='table-result-container'><table class='table-result'><thead style='background-color: white'><tr><th>customer_id</th><th>recency_days</th><th>frequency</th><th>monetary_value</th><th>avg_order_value</th><th>payment_method</th><th>total_returns</th><th>return_rate</th><th>total_sessions</th><th>active_days</th><th>engagement_score</th><th>total_tickets</th><th>avg_resolution_days</th><th>open_tickets</th><th>top_category</th><th>top_brand</th><th>segment</th></tr></thead><tbody><tr><td>000f8432-1236-4c8e-af82-80b824ebacd9</td><td>212</td><td>4</td><td>1739.75</td><td>434.94</td><td>Cash</td><td>0</td><td>0.0</td><td>2</td><td>2</td><td>0</td><td>0</td><td>0.0</td><td>0</td><td>Home</td><td>Coleman-Wang</td><td>Churn Risk</td></tr><tr><td>0061a414-3fea-40dd-9bf7-e35e8eac931f</td><td>29</td><td>2</td><td>508.26</td><td>254.13</td><td>UPI</td><td>0</td><td>0.0</td><td>2</td><td>2</td><td>0</td><td>0</td><td>0.0</td><td>0</td><td>Clothing</td><td>Gibson, Robinson and Moore</td><td>Regular</td></tr><tr><td>0061a414-3fea-40dd-9bf7-e35e8eac931f</td><td>29</td><td>2</td><td>508.26</td><td>254.13</td><td>Wallet</td><td>0</td><td>0.0</td><td>2</td><td>2</td><td>0</td><td>0</td><td>0.0</td><td>0</td><td>Clothing</td><td>Gibson, Robinson and Moore</td><td>Regular</td></tr><tr><td>006cf236-8150-457a-815b-0017d356d868</td><td>243</td><td>3</td><td>2854.94</td><td>951.65</td><td>UPI</td><td>0</td><td>0.0</td><td>3</td><td>3</td><td>0</td><td>0</td><td>0.0</td><td>0</td><td>Clothing</td><td>Fischer Group</td><td>Churn Risk</td></tr><tr><td>00c00081-3d80-40f3-a2ba-22491aca1957</td><td>203</td><td>5</td><td>3219.4400000000005</td><td>643.89</td><td>Cash</td><td>0</td><td>0.0</td><td>7</td><td>7</td><td>0</td><td>1</td><td>0.0</td><td>1</td><td>Home</td><td>Becker-Jones</td><td>Churn Risk</td></tr></tbody></table></div>"
      ]
     },
     "metadata": {
      "application/vnd.databricks.v1+output": {
       "addedWidgets": {},
       "aggData": [],
       "aggError": "",
       "aggOverflow": false,
       "aggSchema": [],
       "aggSeriesLimitReached": false,
       "aggType": "",
       "arguments": {},
       "columnCustomDisplayInfos": {},
       "data": [
        [
         "000f8432-1236-4c8e-af82-80b824ebacd9",
         212,
         4,
         1739.75,
         434.94,
         "Cash",
         0,
         0.0,
         2,
         2,
         0,
         0,
         0.0,
         0,
         "Home",
         "Coleman-Wang",
         "Churn Risk"
        ],
        [
         "0061a414-3fea-40dd-9bf7-e35e8eac931f",
         29,
         2,
         508.26,
         254.13,
         "UPI",
         0,
         0.0,
         2,
         2,
         0,
         0,
         0.0,
         0,
         "Clothing",
         "Gibson, Robinson and Moore",
         "Regular"
        ],
        [
         "0061a414-3fea-40dd-9bf7-e35e8eac931f",
         29,
         2,
         508.26,
         254.13,
         "Wallet",
         0,
         0.0,
         2,
         2,
         0,
         0,
         0.0,
         0,
         "Clothing",
         "Gibson, Robinson and Moore",
         "Regular"
        ],
        [
         "006cf236-8150-457a-815b-0017d356d868",
         243,
         3,
         2854.94,
         951.65,
         "UPI",
         0,
         0.0,
         3,
         3,
         0,
         0,
         0.0,
         0,
         "Clothing",
         "Fischer Group",
         "Churn Risk"
        ],
        [
         "00c00081-3d80-40f3-a2ba-22491aca1957",
         203,
         5,
         3219.4400000000005,
         643.89,
         "Cash",
         0,
         0.0,
         7,
         7,
         0,
         1,
         0.0,
         1,
         "Home",
         "Becker-Jones",
         "Churn Risk"
        ]
       ],
       "datasetInfos": [],
       "dbfsResultPath": null,
       "isJsonSchema": true,
       "metadata": {},
       "overflow": false,
       "plotOptions": {
        "customPlotOptions": {},
        "displayType": "table",
        "pivotAggregation": null,
        "pivotColumns": null,
        "xColumns": null,
        "yColumns": null
       },
       "removedWidgets": [],
       "schema": [
        {
         "metadata": "{}",
         "name": "customer_id",
         "type": "\"string\""
        },
        {
         "metadata": "{}",
         "name": "recency_days",
         "type": "\"long\""
        },
        {
         "metadata": "{}",
         "name": "frequency",
         "type": "\"long\""
        },
        {
         "metadata": "{}",
         "name": "monetary_value",
         "type": "\"double\""
        },
        {
         "metadata": "{}",
         "name": "avg_order_value",
         "type": "\"double\""
        },
        {
         "metadata": "{}",
         "name": "payment_method",
         "type": "\"string\""
        },
        {
         "metadata": "{}",
         "name": "total_returns",
         "type": "\"long\""
        },
        {
         "metadata": "{}",
         "name": "return_rate",
         "type": "\"double\""
        },
        {
         "metadata": "{}",
         "name": "total_sessions",
         "type": "\"long\""
        },
        {
         "metadata": "{}",
         "name": "active_days",
         "type": "\"long\""
        },
        {
         "metadata": "{}",
         "name": "engagement_score",
         "type": "\"long\""
        },
        {
         "metadata": "{}",
         "name": "total_tickets",
         "type": "\"long\""
        },
        {
         "metadata": "{}",
         "name": "avg_resolution_days",
         "type": "\"double\""
        },
        {
         "metadata": "{}",
         "name": "open_tickets",
         "type": "\"long\""
        },
        {
         "metadata": "{}",
         "name": "top_category",
         "type": "\"string\""
        },
        {
         "metadata": "{}",
         "name": "top_brand",
         "type": "\"string\""
        },
        {
         "metadata": "{}",
         "name": "segment",
         "type": "\"string\""
        }
       ],
       "type": "table"
      }
     },
     "output_type": "display_data"
    }
   ],
   "source": [
    "import pandas as pd\n",
    "\n",
    "base_url = \"https://raw.githubusercontent.com/sriram1105-m/Customer-Intelligence-Platform/main/data/final/\"\n",
    "\n",
    "# Load customer segments table\n",
    "file_name = \"customer_segments.csv\"\n",
    "pdf = pd.read_csv(base_url + file_name)\n",
    "customer_segments_df = spark.createDataFrame(pdf)\n",
    "\n",
    "# Quick check\n",
    "print(f\"Rows: {customer_segments_df.count()} | Columns: {len(customer_segments_df.columns)}\")\n",
    "display(customer_segments_df.limit(5))"
   ]
  },
  {
   "cell_type": "code",
   "execution_count": 0,
   "metadata": {
    "application/vnd.databricks.v1+cell": {
     "cellMetadata": {
      "byteLimit": 2048000,
      "rowLimit": 10000
     },
     "inputWidgets": {},
     "nuid": "86af596f-e397-4662-b3d2-4b5be359fd59",
     "showTitle": false,
     "tableResultSettingsMap": {},
     "title": ""
    }
   },
   "outputs": [
    {
     "output_type": "stream",
     "name": "stderr",
     "output_type": "stream",
     "text": [
      "/databricks/python/lib/python3.12/site-packages/pyspark/sql/connect/expressions.py:1061: UserWarning: WARN WindowExpression: No Partition Defined for Window operation! Moving all data to a single partition, this can cause serious performance degradation.\n  warnings.warn(\n"
     ]
    },
    {
     "output_type": "display_data",
     "data": {
      "text/html": [
       "<style scoped>\n",
       "  .table-result-container {\n",
       "    max-height: 300px;\n",
       "    overflow: auto;\n",
       "  }\n",
       "  table, th, td {\n",
       "    border: 1px solid black;\n",
       "    border-collapse: collapse;\n",
       "  }\n",
       "  th, td {\n",
       "    padding: 5px;\n",
       "  }\n",
       "  th {\n",
       "    text-align: left;\n",
       "  }\n",
       "</style><div class='table-result-container'><table class='table-result'><thead style='background-color: white'><tr><th>customer_id</th><th>R_score</th><th>F_score</th><th>M_score</th><th>overall_score</th><th>segment</th></tr></thead><tbody><tr><td>d551c651-ed73-437b-a0fa-0431eec32330</td><td>4</td><td>1</td><td>1</td><td>1.9</td><td>Loyal</td></tr><tr><td>4b0ca07d-5d92-4ebc-9cdd-a8d5e7f4de7d</td><td>5</td><td>1</td><td>1</td><td>2.2</td><td>High Value</td></tr><tr><td>ef4e70f5-7dce-4781-a520-d07f58ed36d5</td><td>5</td><td>1</td><td>1</td><td>2.2</td><td>Loyal</td></tr><tr><td>3dc1ac29-f1a2-4eba-94d3-b75bf01c47e5</td><td>5</td><td>1</td><td>1</td><td>2.2</td><td>High Value</td></tr><tr><td>68ab34bd-80d7-46e3-a92e-5abca973d0c8</td><td>5</td><td>1</td><td>1</td><td>2.2</td><td>High Value</td></tr><tr><td>21375e94-505f-4957-b1ce-fe0cd9879ba0</td><td>5</td><td>1</td><td>1</td><td>2.2</td><td>High Value</td></tr><tr><td>ee660523-efb6-4261-b1b9-aa1fabc06d2a</td><td>4</td><td>1</td><td>1</td><td>1.9</td><td>Loyal</td></tr><tr><td>567c1b55-b9d0-4030-963e-72688fd8b569</td><td>4</td><td>1</td><td>1</td><td>1.9</td><td>Loyal</td></tr><tr><td>5f59d385-aa45-41b9-8f95-285a5f4f1e1a</td><td>3</td><td>1</td><td>1</td><td>1.6</td><td>Regular</td></tr><tr><td>5f59d385-aa45-41b9-8f95-285a5f4f1e1a</td><td>3</td><td>1</td><td>1</td><td>1.6</td><td>Regular</td></tr></tbody></table></div>"
      ]
     },
     "metadata": {
      "application/vnd.databricks.v1+output": {
       "addedWidgets": {},
       "aggData": [],
       "aggError": "",
       "aggOverflow": false,
       "aggSchema": [],
       "aggSeriesLimitReached": false,
       "aggType": "",
       "arguments": {},
       "columnCustomDisplayInfos": {},
       "data": [
        [
         "d551c651-ed73-437b-a0fa-0431eec32330",
         4,
         1,
         1,
         1.9,
         "Loyal"
        ],
        [
         "4b0ca07d-5d92-4ebc-9cdd-a8d5e7f4de7d",
         5,
         1,
         1,
         2.2,
         "High Value"
        ],
        [
         "ef4e70f5-7dce-4781-a520-d07f58ed36d5",
         5,
         1,
         1,
         2.2,
         "Loyal"
        ],
        [
         "3dc1ac29-f1a2-4eba-94d3-b75bf01c47e5",
         5,
         1,
         1,
         2.2,
         "High Value"
        ],
        [
         "68ab34bd-80d7-46e3-a92e-5abca973d0c8",
         5,
         1,
         1,
         2.2,
         "High Value"
        ],
        [
         "21375e94-505f-4957-b1ce-fe0cd9879ba0",
         5,
         1,
         1,
         2.2,
         "High Value"
        ],
        [
         "ee660523-efb6-4261-b1b9-aa1fabc06d2a",
         4,
         1,
         1,
         1.9,
         "Loyal"
        ],
        [
         "567c1b55-b9d0-4030-963e-72688fd8b569",
         4,
         1,
         1,
         1.9,
         "Loyal"
        ],
        [
         "5f59d385-aa45-41b9-8f95-285a5f4f1e1a",
         3,
         1,
         1,
         1.6,
         "Regular"
        ],
        [
         "5f59d385-aa45-41b9-8f95-285a5f4f1e1a",
         3,
         1,
         1,
         1.6,
         "Regular"
        ]
       ],
       "datasetInfos": [],
       "dbfsResultPath": null,
       "isJsonSchema": true,
       "metadata": {},
       "overflow": false,
       "plotOptions": {
        "customPlotOptions": {},
        "displayType": "table",
        "pivotAggregation": null,
        "pivotColumns": null,
        "xColumns": null,
        "yColumns": null
       },
       "removedWidgets": [],
       "schema": [
        {
         "metadata": "{}",
         "name": "customer_id",
         "type": "\"string\""
        },
        {
         "metadata": "{}",
         "name": "R_score",
         "type": "\"integer\""
        },
        {
         "metadata": "{}",
         "name": "F_score",
         "type": "\"integer\""
        },
        {
         "metadata": "{}",
         "name": "M_score",
         "type": "\"integer\""
        },
        {
         "metadata": "{}",
         "name": "overall_score",
         "type": "\"double\""
        },
        {
         "metadata": "{}",
         "name": "segment",
         "type": "\"string\""
        }
       ],
       "type": "table"
      }
     },
     "output_type": "display_data"
    }
   ],
   "source": [
    "from pyspark.sql import functions as F\n",
    "from pyspark.sql.window import Window\n",
    "\n",
    "# 1. Assigning the number of scoring buckets\n",
    "NUM_BUCKETS = 5\n",
    "\n",
    "# 2. RFM Scoring using quantiles\n",
    "# Recency: (Lower recency_days = better score)\n",
    "recency_window = Window.orderBy(F.col(\"recency_days\"))\n",
    "\n",
    "customer_scores_df = customer_segments_df.withColumn(\n",
    "    \"R_score\",\n",
    "    F.ntile(NUM_BUCKETS).over(recency_window)\n",
    ").withColumn(\"R_score\", (NUM_BUCKETS + 1 - F.col(\"R_score\")))  # Reverse so recent gets higher score\n",
    "\n",
    "# Frequency: (Higher Frequency = better score)\n",
    "freq_window = Window.orderBy(F.col(\"frequency\").desc())\n",
    "\n",
    "customer_scores_df = customer_scores_df.withColumn(\n",
    "    \"F_score\",\n",
    "    F.ntile(NUM_BUCKETS).over(freq_window)\n",
    ")\n",
    "\n",
    "# Monetary: (Higher spend = better score)\n",
    "monetary_window = Window.orderBy(F.col(\"monetary_value\").desc())\n",
    "\n",
    "customer_scores_df = customer_scores_df.withColumn(\n",
    "    \"M_score\",\n",
    "    F.ntile(NUM_BUCKETS).over(monetary_window)\n",
    ")\n",
    "\n",
    "# 3. Weighted Overall Score\n",
    "customer_scores_df = customer_scores_df.withColumn(\n",
    "    \"overall_score\",\n",
    "    F.round(\n",
    "        0.4 * F.col(\"M_score\") +\n",
    "        0.3 * F.col(\"R_score\") +\n",
    "        0.3 * F.col(\"F_score\"), 2\n",
    "    )\n",
    ")\n",
    "\n",
    "# 4. Quick Check\n",
    "display(customer_scores_df.select(\"customer_id\", \"R_score\", \"F_score\", \"M_score\", \"overall_score\", \"segment\").limit(10))\n"
   ]
  },
  {
   "cell_type": "code",
   "execution_count": 0,
   "metadata": {
    "application/vnd.databricks.v1+cell": {
     "cellMetadata": {
      "byteLimit": 2048000,
      "rowLimit": 10000
     },
     "inputWidgets": {},
     "nuid": "9e80b5a8-55fd-4b83-8ddc-50ab6b3ae4e1",
     "showTitle": false,
     "tableResultSettingsMap": {},
     "title": ""
    }
   },
   "outputs": [
    {
     "output_type": "stream",
     "name": "stderr",
     "output_type": "stream",
     "text": [
      "/databricks/python/lib/python3.12/site-packages/pyspark/sql/connect/expressions.py:1061: UserWarning: WARN WindowExpression: No Partition Defined for Window operation! Moving all data to a single partition, this can cause serious performance degradation.\n  warnings.warn(\n"
     ]
    }
   ],
   "source": [
    "# Saving the Customer Scoring Table\n",
    "\n",
    "customer_scores_df.toPandas().to_csv(\"customer_scores.csv\", index=False)"
   ]
  }
 ],
 "metadata": {
  "application/vnd.databricks.v1+notebook": {
   "computePreferences": null,
   "dashboards": [],
   "environmentMetadata": {
    "base_environment": "",
    "environment_version": "3"
   },
   "inputWidgetPreferences": null,
   "language": "python",
   "notebookMetadata": {
    "pythonIndentUnit": 4
   },
   "notebookName": "customer_scoring",
   "widgets": {}
  },
  "language_info": {
   "name": "python"
  }
 },
 "nbformat": 4,
 "nbformat_minor": 0
}