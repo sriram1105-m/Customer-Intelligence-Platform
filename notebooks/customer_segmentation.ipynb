{
 "cells": [
  {
   "cell_type": "code",
   "execution_count": 0,
   "metadata": {
    "application/vnd.databricks.v1+cell": {
     "cellMetadata": {
      "byteLimit": 2048000,
      "rowLimit": 10000
     },
     "inputWidgets": {},
     "nuid": "46fba771-dbe0-4fcf-a3f0-9430f17525fc",
     "showTitle": false,
     "tableResultSettingsMap": {},
     "title": ""
    }
   },
   "outputs": [],
   "source": [
    "import pandas as pd\n",
    "\n",
    "base_url = \"https://raw.githubusercontent.com/sriram1105-m/Customer-Intelligence-Platform/main/data/final/\"\n",
    "\n",
    "# Load customer 360 table\n",
    "file_name = \"customer_360.csv\"\n",
    "pdf = pd.read_csv(base_url + file_name)\n",
    "customer_360_df = spark.createDataFrame(pdf)"
   ]
  },
  {
   "cell_type": "code",
   "execution_count": 0,
   "metadata": {
    "application/vnd.databricks.v1+cell": {
     "cellMetadata": {
      "byteLimit": 2048000,
      "rowLimit": 10000
     },
     "inputWidgets": {},
     "nuid": "ed02f031-670e-4434-8fb1-6df702e70028",
     "showTitle": false,
     "tableResultSettingsMap": {},
     "title": ""
    }
   },
   "outputs": [],
   "source": [
    "from pyspark.sql import functions as F\n",
    "\n",
    "# Step 1: Defining Thresholds\n",
    "RFM_THRESHOLDS = {\n",
    "    \"recency_days\" : [30, 60, 120],\n",
    "    \"frequency\" : [2, 5, 10],\n",
    "    \"monetary_value\" : [500, 1000, 5000]\n",
    "}\n",
    "\n",
    "# Step 2: Apply Segmentation Logic inline\n",
    "customer_segments_df = (customer_360_df.withColumn(\n",
    "    \"segment\",\n",
    "    F.when((F.col(\"recency_days\") <= RFM_THRESHOLDS[\"recency_days\"][0]) &\n",
    "           (F.col(\"frequency\") >= RFM_THRESHOLDS[\"frequency\"][2]) &\n",
    "           (F.col(\"monetary_value\") >= RFM_THRESHOLDS[\"monetary_value\"][2]), \"High Value\")\n",
    "     .when((F.col(\"recency_days\") <= RFM_THRESHOLDS[\"recency_days\"][1]) &\n",
    "           (F.col(\"frequency\") >= RFM_THRESHOLDS[\"frequency\"][1]) &\n",
    "           (F.col(\"monetary_value\") >= RFM_THRESHOLDS[\"monetary_value\"][1]), \"Loyal\")\n",
    "     .when((F.col(\"recency_days\") > RFM_THRESHOLDS[\"recency_days\"][2]), \"Churn Risk\")\n",
    "     .otherwise(\"Regular\")\n",
    "))\n",
    "\n"
   ]
  },
  {
   "cell_type": "code",
   "execution_count": 0,
   "metadata": {
    "application/vnd.databricks.v1+cell": {
     "cellMetadata": {
      "byteLimit": 2048000,
      "rowLimit": 10000
     },
     "inputWidgets": {},
     "nuid": "05af973c-d439-4952-a3b5-3656db63967b",
     "showTitle": false,
     "tableResultSettingsMap": {},
     "title": ""
    }
   },
   "outputs": [
    {
     "output_type": "display_data",
     "data": {
      "text/html": [
       "<style scoped>\n",
       "  .table-result-container {\n",
       "    max-height: 300px;\n",
       "    overflow: auto;\n",
       "  }\n",
       "  table, th, td {\n",
       "    border: 1px solid black;\n",
       "    border-collapse: collapse;\n",
       "  }\n",
       "  th, td {\n",
       "    padding: 5px;\n",
       "  }\n",
       "  th {\n",
       "    text-align: left;\n",
       "  }\n",
       "</style><div class='table-result-container'><table class='table-result'><thead style='background-color: white'><tr><th>segment</th><th>count</th></tr></thead><tbody><tr><td>Regular</td><td>5348</td></tr><tr><td>Churn Risk</td><td>7114</td></tr><tr><td>High Value</td><td>116</td></tr><tr><td>Loyal</td><td>3416</td></tr></tbody></table></div>"
      ]
     },
     "metadata": {
      "application/vnd.databricks.v1+output": {
       "addedWidgets": {},
       "aggData": [],
       "aggError": "",
       "aggOverflow": false,
       "aggSchema": [],
       "aggSeriesLimitReached": false,
       "aggType": "",
       "arguments": {},
       "columnCustomDisplayInfos": {},
       "data": [
        [
         "Regular",
         5348
        ],
        [
         "Churn Risk",
         7114
        ],
        [
         "High Value",
         116
        ],
        [
         "Loyal",
         3416
        ]
       ],
       "datasetInfos": [],
       "dbfsResultPath": null,
       "isJsonSchema": true,
       "metadata": {},
       "overflow": false,
       "plotOptions": {
        "customPlotOptions": {},
        "displayType": "table",
        "pivotAggregation": null,
        "pivotColumns": null,
        "xColumns": null,
        "yColumns": null
       },
       "removedWidgets": [],
       "schema": [
        {
         "metadata": "{}",
         "name": "segment",
         "type": "\"string\""
        },
        {
         "metadata": "{}",
         "name": "count",
         "type": "\"long\""
        }
       ],
       "type": "table"
      }
     },
     "output_type": "display_data"
    }
   ],
   "source": [
    "# Quick summary check\n",
    "display(customer_segments_df.groupBy(\"segment\").count())"
   ]
  },
  {
   "cell_type": "code",
   "execution_count": 0,
   "metadata": {
    "application/vnd.databricks.v1+cell": {
     "cellMetadata": {
      "byteLimit": 2048000,
      "rowLimit": 10000
     },
     "inputWidgets": {},
     "nuid": "42870104-62c9-44f7-8ce3-911715dc5f4d",
     "showTitle": false,
     "tableResultSettingsMap": {},
     "title": ""
    }
   },
   "outputs": [],
   "source": [
    "# Saving the Customer Segmentation Table\n",
    "\n",
    "customer_segments_df.toPandas().to_csv(\"customer_segments.csv\", index=False)"
   ]
  }
 ],
 "metadata": {
  "application/vnd.databricks.v1+notebook": {
   "computePreferences": null,
   "dashboards": [],
   "environmentMetadata": {
    "base_environment": "",
    "environment_version": "3"
   },
   "inputWidgetPreferences": null,
   "language": "python",
   "notebookMetadata": {
    "pythonIndentUnit": 4
   },
   "notebookName": "customer_segmentation",
   "widgets": {}
  },
  "language_info": {
   "name": "python"
  }
 },
 "nbformat": 4,
 "nbformat_minor": 0
}